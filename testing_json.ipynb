{
 "cells": [
  {
   "cell_type": "code",
   "execution_count": 1,
   "metadata": {
    "collapsed": false,
    "scrolled": false
   },
   "outputs": [
    {
     "name": "stdout",
     "output_type": "stream",
     "text": [
      "{'match': {'attachment_count': None,\n",
      "           'completed_at': '2017-01-31T20:08:23.145-05:00',\n",
      "           'created_at': '2017-01-31T20:03:36.059-05:00',\n",
      "           'group_id': None,\n",
      "           'has_attachment': False,\n",
      "           'id': 79781412,\n",
      "           'identifier': 'A',\n",
      "           'location': None,\n",
      "           'loser_id': 50798040,\n",
      "           'optional': False,\n",
      "           'player1_id': 50798018,\n",
      "           'player1_is_prereq_match_loser': False,\n",
      "           'player1_prereq_match_id': None,\n",
      "           'player1_votes': None,\n",
      "           'player2_id': 50798040,\n",
      "           'player2_is_prereq_match_loser': False,\n",
      "           'player2_prereq_match_id': None,\n",
      "           'player2_votes': None,\n",
      "           'prerequisite_match_ids_csv': '',\n",
      "           'round': 1,\n",
      "           'rushb_id': None,\n",
      "           'scheduled_time': None,\n",
      "           'scores_csv': '2-0',\n",
      "           'started_at': '2017-01-31T20:03:36.872-05:00',\n",
      "           'state': 'complete',\n",
      "           'suggested_play_order': 1,\n",
      "           'tournament_id': 3173155,\n",
      "           'underway_at': None,\n",
      "           'updated_at': '2017-01-31T20:08:23.087-05:00',\n",
      "           'winner_id': 50798018}}\n"
     ]
    }
   ],
   "source": [
    "import json\n",
    "import numpy as np\n",
    "from pprint import pprint\n",
    "\n",
    "with open('challonge_json/boxcartournament.json') as data_file:    \n",
    "    data = json.load(data_file)\n",
    "\n",
    "pprint(data[0])"
   ]
  },
  {
   "cell_type": "code",
   "execution_count": 24,
   "metadata": {
    "collapsed": false
   },
   "outputs": [],
   "source": [
    "player2num = {}\n",
    "num2player = []\n",
    "which_player = 0\n",
    "for match in data:\n",
    "    get_match = match['match']\n",
    "    pid1 = get_match['player1_id']\n",
    "    pid2 = get_match['player2_id']\n",
    "    if pid1 not in player2num.keys():\n",
    "        player2num[pid1] = which_player\n",
    "        num2player.append(pid1)\n",
    "        which_player = which_player+1\n",
    "    if pid2 not in player2num.keys():\n",
    "        player2num[pid2] = which_player\n",
    "        num2player.append(pid2)\n",
    "        which_player = which_player+1  \n",
    "    #print( pid1, pid2, get_match['winner_id'], get_match['loser_id'] )\n",
    "\n",
    "numplayers = len(player2num)\n",
    "gamemat = np.zeros( (numplayers,numplayers) )\n",
    "matchmat = np.zeros( (numplayers,numplayers) )\n",
    "for match in data:\n",
    "    pid1 = match['match']['player1_id']\n",
    "    pid2 = match['match']['player2_id']\n",
    "    winid = match['match']['winner_id']\n",
    "    loserid = match['match']['loser_id']\n",
    "    p1wins = match['match']['scores_csv'][0]\n",
    "    p2wins = match['match']['scores_csv'][2]\n",
    "    matchmat[ player2num[winid], player2num[loserid] ] = matchmat[ player2num[winid], player2num[loserid] ] + 1\n",
    "    gamemat[ player2num[pid1], player2num[pid2] ] = gamemat[ player2num[pid1], player2num[pid2] ] + int(p1wins)\n",
    "    gamemat[ player2num[pid2], player2num[pid1] ] = gamemat[ player2num[pid2], player2num[pid1] ] + int(p2wins)\n",
    "    "
   ]
  },
  {
   "cell_type": "code",
   "execution_count": 2,
   "metadata": {
    "collapsed": false
   },
   "outputs": [
    {
     "ename": "ImportError",
     "evalue": "No module named 'model'",
     "output_type": "error",
     "traceback": [
      "\u001b[0;31m---------------------------------------------------------------------------\u001b[0m",
      "\u001b[0;31mImportError\u001b[0m                               Traceback (most recent call last)",
      "\u001b[0;32m<ipython-input-2-537a57248da5>\u001b[0m in \u001b[0;36m<module>\u001b[0;34m()\u001b[0m\n\u001b[1;32m      1\u001b[0m \u001b[0;32mimport\u001b[0m \u001b[0mdatetime\u001b[0m\u001b[0;34m\u001b[0m\u001b[0m\n\u001b[1;32m      2\u001b[0m \u001b[0;32mimport\u001b[0m \u001b[0mrequests\u001b[0m\u001b[0;34m\u001b[0m\u001b[0m\n\u001b[0;32m----> 3\u001b[0;31m \u001b[0;32mfrom\u001b[0m \u001b[0mmodel\u001b[0m \u001b[0;32mimport\u001b[0m \u001b[0mAliasMatch\u001b[0m\u001b[0;34m\u001b[0m\u001b[0m\n\u001b[0m",
      "\u001b[0;31mImportError\u001b[0m: No module named 'model'"
     ]
    }
   ],
   "source": [
    "import datetime\n",
    "import requests\n",
    "from model import AliasMatch"
   ]
  },
  {
   "cell_type": "code",
   "execution_count": null,
   "metadata": {
    "collapsed": true
   },
   "outputs": [],
   "source": []
  }
 ],
 "metadata": {
  "kernelspec": {
   "display_name": "Python 3",
   "language": "python",
   "name": "python3"
  },
  "language_info": {
   "codemirror_mode": {
    "name": "ipython",
    "version": 3
   },
   "file_extension": ".py",
   "mimetype": "text/x-python",
   "name": "python",
   "nbconvert_exporter": "python",
   "pygments_lexer": "ipython3",
   "version": "3.5.2"
  }
 },
 "nbformat": 4,
 "nbformat_minor": 1
}
