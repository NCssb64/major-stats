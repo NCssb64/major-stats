{
 "cells": [
  {
   "cell_type": "code",
   "execution_count": 8,
   "metadata": {
    "collapsed": false
   },
   "outputs": [
    {
     "name": "stdout",
     "output_type": "stream",
     "text": [
      "initiatlizing smashdb\n",
      "\n",
      "SMASH ARCHIVE QUERY RESULTS\n",
      "\n",
      "| Name             | Players | data-points |  Region |  Version |\n",
      "|:-----------------|--------:|------------:|--------:|---------:|\n",
      "| 2016 genesis 3   |     238 |          65 |      NA |        U |\n",
      "| 2016 pound       |     107 |          90 |      NA |        U |\n",
      "| 2016 goml        |      83 |          56 |      NA |        U |\n",
      "| 2016 snosa2      |      96 |          79 |      NA |        U |\n",
      "| 2017 beast7      |      43 |          45 |  Europe |        U |\n",
      "| 2016 ssc         |     314 |         105 |      NA |        U |\n",
      "| 2017 genesis 4   |     185 |          64 |      NA |        U |\n",
      "| 2016 shine       |     109 |          67 |      NA |        U |\n",
      "| 2016 apex        |      54 |          63 |      NA |        U |\n",
      "| 2016 summit      |      28 |          56 |      NA |        U |\n",
      "| 2016 superboomed |      80 |          65 |      NA |        U |\n",
      "| 2016 bossbattle2 |      90 |          65 |      NA |        U |\n",
      "| 2016 dpotg       |      73 |          48 |      NA |        U |\n",
      "| 2016 deluge      |      25 |          24 |      NA |        U |\n",
      "| 2017 ceodreamland|      53 |          34 |      NA |        U |\n",
      "| 2017 goml        |      81 |          42 |      NA |        U |\n",
      "| 2017 letsgo      |     153 |          58 |      NA |        U |\n",
      "| 2017 snosa3      |     101 |          73 |      NA |        U |\n",
      "| 2017 ltc5        |      55 |          38 |      NA |        U |\n",
      "\n",
      "* Includes top32 games through gf2\n",
      "* Number of players in query: 116\n",
      "* Number of games in query: 1137\n",
      "\n"
     ]
    }
   ],
   "source": [
    "import smasharchive, smashplots\n",
    "\n",
    "db = smasharchive.smashdb()\n",
    "db.tournament_name_skip['kansai'] = 1\n",
    "db.level_limits = [3,9]\n",
    "db.refilter_archive()\n",
    "\n",
    "db.print_header()"
   ]
  },
  {
   "cell_type": "code",
   "execution_count": 12,
   "metadata": {
    "collapsed": false
   },
   "outputs": [
    {
     "name": "stdout",
     "output_type": "stream",
     "text": [
      "Rank \t Name                      Rating   # Games played \t best game win \t worst game loss\n",
      "1 \t mariguas-pika          0.0321876              342    superboomfan-pika           gyaki-link\n",
      "2 \t superboomfan-pika      0.0281283              176        mariguas-pika          revan-kirby\n",
      "3 \t alvin-pika             0.0249627               86        mariguas-pika          kysk-falcon\n",
      "4 \t wizzrobe-yoshi         0.0236838              150        mariguas-pika           isai-luigi\n",
      "5 \t wangera-puff           0.0198003               65    superboomfan-pika           isai-mario\n",
      "6 \t kerokeroppi-pika       0.0171829              185    superboomfan-pika           dtan-kirby\n",
      "7 \t superboomfan-falcon    0.0154177               97        mariguas-pika         alvin-falcon\n",
      "8 \t tacos-yoshi            0.0151045              134        mariguas-pika       janitor-falcon\n",
      "9 \t superboomfan-kirby     0.0141427               89           alvin-pika     kerokeroppi-pika\n",
      "10 \t isai-pika              0.0137767               64        mariguas-pika         wangera-puff\n",
      "11 \t thez-pika              0.0113909               74        mariguas-pika         tacos-falcon\n",
      "12 \t dext3r-pika            0.0092536              149        mariguas-pika       jaimehr-falcon\n",
      "13 \t revan-kirby            0.0087185              280    superboomfan-pika             ctg-puff\n",
      "14 \t wario-pika             0.0086954               30        mariguas-pika  superboomfan-falcon\n",
      "15 \t fireblaster-yoshi      0.0077140              237           alvin-pika           janco-pika\n",
      "16 \t isai-fox               0.0076806               64        mariguas-pika           hiyo-yoshi\n",
      "17 \t zero-falcon            0.0066435               99        mariguas-pika       bonobono-yoshi\n",
      "18 \t alvin-falcon           0.0064429               53        mariguas-pika       mariguas-kirby\n",
      "19 \t prince-yoshi           0.0052343               20        mariguas-pika         alvin-falcon\n",
      "20 \t kurabba-yoshi          0.0050215               20           alvin-pika     kerokeroppi-pika\n",
      "21 \t kysk-falcon            0.0045186                4           alvin-pika    superboomfan-pika\n",
      "22 \t kysk-kirby             0.0043753               22        mariguas-pika           alvin-pika\n",
      "23 \t tacos-falcon           0.0042527               34     kerokeroppi-pika            kort-pika\n",
      "24 \t tacos-pika             0.0039794               37     kerokeroppi-pika         dext3r-kirby\n",
      "25 \t barksanchez-pika       0.0038315              317          revan-kirby       shihman-falcon\n",
      "26 \t isai-mario             0.0027763               18         wangera-puff   superboomfan-yoshi\n",
      "27 \t isai-puff              0.0025963               22          tacos-yoshi         yukun-falcon\n",
      "28 \t mariguas-kirby         0.0025169               29          zero-falcon         alvin-falcon\n",
      "29 \t isai-yoshi             0.0024571               12        mariguas-pika       wizzrobe-yoshi\n",
      "30 \t fukurou-kirby          0.0022482               34        mariguas-pika        mariguas-pika\n"
     ]
    }
   ],
   "source": [
    "db.print_plchar_ranks(num_to_print=30, degree_scale=False)"
   ]
  },
  {
   "cell_type": "code",
   "execution_count": 11,
   "metadata": {
    "collapsed": false
   },
   "outputs": [
    {
     "name": "stdout",
     "output_type": "stream",
     "text": [
      "Rank \t Name                      Rating   # Games played \t best game win \t worst game loss\n",
      "1 \t mariguas-pika          0.0274256              137           alvin-pika           gyaki-link\n",
      "2 \t alvin-pika             0.0268436               43        mariguas-pika          kysk-falcon\n",
      "3 \t superboomfan-pika      0.0248510               73        mariguas-pika          revan-kirby\n",
      "4 \t wizzrobe-yoshi         0.0193574               68        mariguas-pika           isai-luigi\n",
      "5 \t wangera-puff           0.0157665               31    superboomfan-pika           isai-mario\n",
      "6 \t kerokeroppi-pika       0.0133621               79    superboomfan-pika           dtan-kirby\n",
      "7 \t tacos-yoshi            0.0122531               52        mariguas-pika       janitor-falcon\n",
      "8 \t superboomfan-falcon    0.0118077               40        mariguas-pika           wario-pika\n",
      "9 \t superboomfan-kirby     0.0111751               39           alvin-pika     kerokeroppi-pika\n",
      "10 \t isai-pika              0.0102598               29        mariguas-pika         wangera-puff\n",
      "11 \t thez-pika              0.0087477               35        mariguas-pika         tacos-falcon\n",
      "12 \t fireblaster-yoshi      0.0083144               83           alvin-pika           janco-pika\n",
      "13 \t dext3r-pika            0.0076267               61        mariguas-pika       jaimehr-falcon\n",
      "14 \t revan-kirby            0.0074232              106    superboomfan-pika             ctg-puff\n",
      "15 \t zero-falcon            0.0073561               47        mariguas-pika       bonobono-yoshi\n",
      "16 \t alvin-falcon           0.0069731               26        mariguas-pika       mariguas-kirby\n",
      "17 \t wario-pika             0.0062343               15        mariguas-pika  superboomfan-falcon\n",
      "18 \t isai-fox               0.0060353               27        mariguas-pika           hiyo-yoshi\n",
      "19 \t prince-yoshi           0.0056046               10        mariguas-pika         alvin-falcon\n",
      "20 \t kurabba-yoshi          0.0054203               10           alvin-pika     kerokeroppi-pika\n",
      "21 \t kysk-falcon            0.0048560                2           alvin-pika    superboomfan-pika\n",
      "22 \t kysk-kirby             0.0047679               11        mariguas-pika    superboomfan-pika\n",
      "23 \t barksanchez-pika       0.0039146              133    fireblaster-yoshi       shihman-falcon\n",
      "24 \t tacos-falcon           0.0031396               15     kerokeroppi-pika            kort-pika\n",
      "25 \t tacos-pika             0.0028927               18     kerokeroppi-pika         dext3r-kirby\n",
      "26 \t isai-puff              0.0027511                8          tacos-yoshi         yukun-falcon\n",
      "27 \t mariguas-kirby         0.0027208               10          zero-falcon         alvin-falcon\n",
      "28 \t isai-yoshi             0.0025522                6        mariguas-pika       wizzrobe-yoshi\n",
      "29 \t isai-mario             0.0025003                8         wangera-puff   superboomfan-yoshi\n",
      "30 \t fukurou-kirby          0.0024396               17        mariguas-pika        mariguas-pika\n"
     ]
    }
   ],
   "source": [
    "db.print_plchar_ranks(num_to_print=30, degree_scale=False, transpose_flag=False)"
   ]
  }
 ],
 "metadata": {
  "kernelspec": {
   "display_name": "Python 3",
   "language": "python",
   "name": "python3"
  },
  "language_info": {
   "codemirror_mode": {
    "name": "ipython",
    "version": 3
   },
   "file_extension": ".py",
   "mimetype": "text/x-python",
   "name": "python",
   "nbconvert_exporter": "python",
   "pygments_lexer": "ipython3",
   "version": "3.6.0"
  }
 },
 "nbformat": 4,
 "nbformat_minor": 2
}
