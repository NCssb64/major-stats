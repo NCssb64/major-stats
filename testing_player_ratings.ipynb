{
 "cells": [
  {
   "cell_type": "code",
   "execution_count": 1,
   "metadata": {
    "collapsed": false
   },
   "outputs": [
    {
     "name": "stdout",
     "output_type": "stream",
     "text": [
      "initiatlizing smashdb\n",
      "\n",
      "SMASH ARCHIVE QUERY RESULTS\n",
      "\n",
      "| Name             | Players | data-points |  Region |  Version |\n",
      "|:-----------------|--------:|------------:|--------:|---------:|\n",
      "| 2016 genesis 3   |     238 |         176 |      NA |        U |\n",
      "| 2016 pound       |     107 |         137 |      NA |        U |\n",
      "| 2016 goml        |      83 |         102 |      NA |        U |\n",
      "| 2016 snosa2      |      96 |          94 |      NA |        U |\n",
      "| 2017 beast7      |      43 |          45 |  Europe |        U |\n",
      "| 2016 ssc         |     314 |         211 |      NA |        U |\n",
      "| 2017 genesis 4   |     185 |         182 |      NA |        U |\n",
      "| 2016 shine       |     109 |         110 |      NA |        U |\n",
      "| 2016 apex        |      54 |          63 |      NA |        U |\n",
      "| 2016 summit      |      28 |          56 |      NA |        U |\n",
      "| 2016 superboomed |      80 |          87 |      NA |        U |\n",
      "| 2016 bossbattle2 |      90 |          93 |      NA |        U |\n",
      "| 2016 dpotg       |      73 |          86 |      NA |        U |\n",
      "| 2016 deluge      |      25 |          40 |      NA |        U |\n",
      "| 2017 ceodreamland|      53 |          34 |      NA |        U |\n",
      "\n",
      "* Includes pools games through gf2\n",
      "* Number of players in query: 272\n",
      "* Number of games in query: 1516\n",
      "\n"
     ]
    }
   ],
   "source": [
    "import smasharchive, smashplots\n",
    "\n",
    "db = smasharchive.smashdb()\n",
    "db.tournament_name_skip['kansai'] = 1\n",
    "db.level_limits = [0,9]\n",
    "db.refilter_archive()\n",
    "\n",
    "db.print_header()"
   ]
  },
  {
   "cell_type": "code",
   "execution_count": 2,
   "metadata": {
    "collapsed": false
   },
   "outputs": [
    {
     "name": "stdout",
     "output_type": "stream",
     "text": [
      "Rank \t Name                           Rating\n",
      "1 \t wangera-puff                   0.024740444906\n",
      "2 \t superboomfan-pika              0.020786857888\n",
      "3 \t alvin-pika                     0.0192962598483\n",
      "4 \t wizzrobe-yoshi                 0.0174760016752\n",
      "5 \t mariguas-pika                  0.015926446396\n",
      "6 \t isai-pika                      0.0125266723559\n",
      "7 \t superboomfan-kirby             0.011927230672\n",
      "8 \t tacos-yoshi                    0.0117228191608\n",
      "9 \t kerokeroppi-pika               0.0117012503064\n",
      "10 \t superboomfan-falcon            0.0109383485965\n",
      "11 \t thez-pika                      0.00833810310757\n",
      "12 \t wario-pika                     0.00762816592366\n",
      "13 \t fireblaster-yoshi              0.00559902810912\n",
      "14 \t isai-fox                       0.00520671459361\n",
      "15 \t isai-mario                     0.00468682477352\n",
      "16 \t dext3r-pika                    0.00443931194552\n",
      "17 \t alvin-falcon                   0.00371028109928\n",
      "18 \t revan-kirby                    0.00367938772673\n",
      "19 \t kysk-kirby                     0.00364579256768\n",
      "20 \t prince-yoshi                   0.00344891762269\n",
      "21 \t tacos-pika                     0.0029345756513\n",
      "22 \t tacos-falcon                   0.00288035455354\n",
      "23 \t kurabba-yoshi                  0.00280548962043\n",
      "24 \t barksanchez-pika               0.00271180956088\n",
      "25 \t kysk-falcon                    0.00241618779506\n",
      "26 \t superboomfan-yoshi             0.00182283886533\n",
      "27 \t thez-kirby                     0.00167085637593\n",
      "28 \t isai-yoshi                     0.00146301501058\n",
      "29 \t mariguas-kirby                 0.00141273126688\n",
      "30 \t isai-puff                      0.00133088224906\n"
     ]
    }
   ],
   "source": [
    "db.print_plchar_ranks(num_to_print=30, degree_scale=False)"
   ]
  },
  {
   "cell_type": "code",
   "execution_count": 3,
   "metadata": {
    "collapsed": false
   },
   "outputs": [
    {
     "name": "stdout",
     "output_type": "stream",
     "text": [
      "Rank \t Name                           Rating\n",
      "1 \t wangera-puff                   0.0234642588799\n",
      "2 \t superboomfan-pika              0.0214067223651\n",
      "3 \t alvin-pika                     0.0208116027185\n",
      "4 \t wizzrobe-yoshi                 0.0156553232031\n",
      "5 \t mariguas-pika                  0.0151427292396\n",
      "6 \t isai-pika                      0.0118324813185\n",
      "7 \t kerokeroppi-pika               0.0117186843621\n",
      "8 \t superboomfan-kirby             0.00958393360982\n",
      "9 \t tacos-yoshi                    0.00926795165282\n",
      "10 \t thez-pika                      0.00881416250562\n",
      "11 \t superboomfan-falcon            0.00820606196451\n",
      "12 \t fireblaster-yoshi              0.00542773342336\n",
      "13 \t wario-pika                     0.00527825056732\n",
      "14 \t isai-fox                       0.00480368051877\n",
      "15 \t dext3r-pika                    0.00461228712459\n",
      "16 \t kysk-kirby                     0.00401276279902\n",
      "17 \t kurabba-yoshi                  0.0040022781952\n",
      "18 \t alvin-falcon                   0.00389048275674\n",
      "19 \t revan-kirby                    0.00387994139309\n",
      "20 \t prince-yoshi                   0.0035491228289\n",
      "21 \t kysk-falcon                    0.00346426969064\n",
      "22 \t isai-mario                     0.00323150013756\n",
      "23 \t tacos-pika                     0.00285080405205\n",
      "24 \t barksanchez-pika               0.00279281252284\n",
      "25 \t tacos-falcon                   0.0027762320054\n",
      "26 \t superboomfan-yoshi             0.0018111242436\n",
      "27 \t isai-yoshi                     0.00177578774015\n",
      "28 \t thez-kirby                     0.00157169364897\n",
      "29 \t mariguas-kirby                 0.00148033534132\n",
      "30 \t firo-link                      0.00139925174321\n"
     ]
    }
   ],
   "source": [
    "db.print_plchar_ranks(num_to_print=30, degree_scale=False, transpose_flag=False)"
   ]
  }
 ],
 "metadata": {
  "kernelspec": {
   "display_name": "Python 3",
   "language": "python",
   "name": "python3"
  },
  "language_info": {
   "codemirror_mode": {
    "name": "ipython",
    "version": 3
   },
   "file_extension": ".py",
   "mimetype": "text/x-python",
   "name": "python",
   "nbconvert_exporter": "python",
   "pygments_lexer": "ipython3",
   "version": "3.6.0"
  }
 },
 "nbformat": 4,
 "nbformat_minor": 2
}
