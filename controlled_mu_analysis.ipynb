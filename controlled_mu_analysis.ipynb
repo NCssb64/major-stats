{
 "cells": [
  {
   "cell_type": "code",
   "execution_count": 20,
   "metadata": {
    "collapsed": false
   },
   "outputs": [
    {
     "name": "stdout",
     "output_type": "stream",
     "text": [
      "initiatlizing smashdb\n",
      "\n",
      "genesis 3    2016  top16 wario              wizzrobe           pika     yoshi    9.980 9.090\n",
      "genesis 3    2016  top16 wario              wizzrobe           pika     yoshi    9.980 9.090\n",
      "genesis 3    2016  top8  kerokeroppi        wizzrobe           pika     yoshi    8.860 9.090\n",
      "genesis 3    2016  top8  kerokeroppi        wizzrobe           pika     yoshi    8.860 9.090\n",
      "genesis 3    2016  top8  kerokeroppi        wizzrobe           pika     yoshi    8.860 9.090\n",
      "genesis 3    2016  top8  wizzrobe           kerokeroppi        yoshi    pika     9.090 8.860\n",
      "genesis 3    2016  top16 tacos              thez               yoshi    pika     8.880 8.860\n",
      "genesis 3    2016  top16 wizzrobe           dext3r             yoshi    pika     9.090 8.880\n",
      "genesis 3    2016  top16 wizzrobe           dext3r             yoshi    pika     9.090 8.880\n",
      "pound        2016  top16 barksanchez        fireblaster        pika     yoshi    7.680 7.480\n",
      "pound        2016  top16 fireblaster        barksanchez        yoshi    pika     7.480 7.680\n",
      "pound        2016  top16 barksanchez        fireblaster        pika     yoshi    7.680 7.480\n",
      "pound        2016  top16 barksanchez        fireblaster        pika     yoshi    7.680 7.480\n",
      "pound        2016  top8  wizzrobe           superboomfan       yoshi    pika     9.090 9.920\n",
      "pound        2016  top8  superboomfan       wizzrobe           pika     yoshi    9.920 9.090\n",
      "pound        2016  top8  wizzrobe           superboomfan       yoshi    pika     9.090 9.920\n",
      "pound        2016  top8  kerokeroppi        tacos              pika     yoshi    8.860 8.880\n",
      "pound        2016  top8  tacos              kerokeroppi        yoshi    pika     8.880 8.860\n",
      "goml         2016  top16 fireblaster        derek              yoshi    pika     7.480 7.960\n",
      "goml         2016  top16 derek              fireblaster        pika     yoshi    7.960 7.480\n",
      "goml         2016  top16 derek              fireblaster        pika     yoshi    7.960 7.480\n",
      "goml         2016  top8  derek              thez               pika     yoshi    7.960 8.860\n",
      "goml         2016  top8  wizzrobe           kerokeroppi        yoshi    pika     9.090 8.860\n",
      "goml         2016  top8  kerokeroppi        wizzrobe           pika     yoshi    8.860 9.090\n",
      "goml         2016  top8  kerokeroppi        wizzrobe           pika     yoshi    8.860 9.090\n",
      "goml         2016  top8  kerokeroppi        wizzrobe           pika     yoshi    8.860 9.090\n",
      "goml         2016  top32 shears             derek              yoshi    pika     6.660 7.960\n",
      "goml         2016  top16 kerokeroppi        fireblaster        pika     yoshi    8.860 7.480\n",
      "snosa2       2016  top8  isai               mariguas           yoshi    pika     9.810 9.380\n",
      "snosa2       2016  top8  isai               mariguas           yoshi    pika     9.810 9.380\n",
      "snosa2       2016  top8  isai               mariguas           yoshi    pika     9.810 9.380\n",
      "snosa2       2016  top8  tacos              dext3r             yoshi    pika     8.880 8.880\n",
      "snosa2       2016  top8  tacos              dext3r             yoshi    pika     8.880 8.880\n",
      "snosa2       2016  top8  tacos              dext3r             yoshi    pika     8.880 8.880\n",
      "snosa2       2016  wf    superboomfan       isai               pika     yoshi    9.920 9.810\n",
      "snosa2       2016  wf    superboomfan       isai               pika     yoshi    9.920 9.810\n",
      "snosa2       2016  top8  mariguas           tacos              pika     yoshi    9.380 8.880\n",
      "snosa2       2016  top8  mariguas           tacos              pika     yoshi    9.380 8.880\n",
      "snosa2       2016  top8  tacos              mariguas           yoshi    pika     8.880 9.380\n",
      "snosa2       2016  top8  tacos              mariguas           yoshi    pika     8.880 9.380\n",
      "beast7       2017  ws    isai               shears             pika     yoshi    9.810 6.660\n",
      "ssc          2016  pools robert             sheermadness       pika     yoshi    5.600 5.900\n",
      "ssc          2016  pools robert             sheermadness       pika     yoshi    5.600 5.900\n",
      "ssc          2016  top32 kurabba            alvin              yoshi    pika     8.840 9.740\n",
      "ssc          2016  top32 kurabba            alvin              yoshi    pika     8.840 9.740\n",
      "ssc          2016  top32 thez               tacos              pika     yoshi    8.860 8.880\n",
      "ssc          2016  top16 alvin              prince             pika     yoshi    9.740 8.700\n",
      "ssc          2016  top16 prince             alvin              yoshi    pika     8.700 9.740\n",
      "ssc          2016  top32 fireblaster        alvin              yoshi    pika     7.480 9.740\n",
      "ssc          2016  top16 prince             mariguas           yoshi    pika     8.700 9.380\n",
      "ssc          2016  top16 mariguas           prince             pika     yoshi    9.380 8.700\n",
      "ssc          2016  top16 mariguas           prince             pika     yoshi    9.380 8.700\n",
      "ssc          2016  top16 prince             mariguas           yoshi    pika     8.700 9.380\n",
      "ssc          2016  top16 mariguas           prince             pika     yoshi    9.380 8.700\n",
      "ssc          2016  top16 kerokeroppi        kurabba            pika     yoshi    8.860 8.840\n",
      "ssc          2016  top16 kerokeroppi        kurabba            pika     yoshi    8.860 8.840\n",
      "ssc          2016  top16 kurabba            kerokeroppi        yoshi    pika     8.840 8.860\n",
      "ssc          2016  top16 kerokeroppi        kurabba            pika     yoshi    8.860 8.840\n",
      "ssc          2016  top8  wizzrobe           thez               yoshi    pika     9.090 8.860\n",
      "ssc          2016  top8  thez               wizzrobe           pika     yoshi    8.860 9.090\n",
      "ssc          2016  top8  wizzrobe           thez               yoshi    pika     9.090 8.860\n",
      "ssc          2016  top8  mariguas           thez               pika     yoshi    9.380 8.860\n",
      "ssc          2016  lf    isai               wizzrobe           pika     yoshi    9.810 9.090\n",
      "genesis 4    2017  wq    alvin              tacos              pika     yoshi    9.740 8.880\n",
      "genesis 4    2017  wq    tacos              alvin              yoshi    pika     8.880 9.740\n",
      "genesis 4    2017  wq    alvin              tacos              pika     yoshi    9.740 8.880\n",
      "genesis 4    2017  wq    alvin              tacos              pika     yoshi    9.740 8.880\n",
      "genesis 4    2017  top8  wizzrobe           dext3r             yoshi    pika     9.090 8.880\n",
      "genesis 4    2017  top8  dext3r             wizzrobe           pika     yoshi    8.880 9.090\n",
      "genesis 4    2017  top8  dext3r             wizzrobe           pika     yoshi    8.880 9.090\n",
      "genesis 4    2017  top8  dext3r             wizzrobe           pika     yoshi    8.880 9.090\n",
      "shine        2016  top8  marbles            shears             pika     yoshi    6.070 6.660\n",
      "shine        2016  top8  shears             marbles            yoshi    pika     6.660 6.070\n",
      "shine        2016  top8  marbles            shears             pika     yoshi    6.070 6.660\n",
      "shine        2016  ws    tacos              barksanchez        yoshi    pika     8.880 7.680\n",
      "shine        2016  ws    tacos              barksanchez        yoshi    pika     8.880 7.680\n",
      "shine        2016  ws    fireblaster        barksanchez        yoshi    pika     7.480 7.680\n",
      "shine        2016  ws    barksanchez        fireblaster        pika     yoshi    7.680 7.480\n",
      "shine        2016  ws    barksanchez        fireblaster        pika     yoshi    7.680 7.480\n",
      "shine        2016  ws    barksanchez        fireblaster        pika     yoshi    7.680 7.480\n",
      "shine        2016  lf    tacos              barksanchez        yoshi    pika     8.880 7.680\n",
      "shine        2016  lf    tacos              barksanchez        yoshi    pika     8.880 7.680\n",
      "shine        2016  lf    tacos              barksanchez        yoshi    pika     8.880 7.680\n",
      "shine        2016  top32 fireblaster        shears             yoshi    pika     7.480 6.660\n",
      "shine        2016  top32 fireblaster        shears             yoshi    pika     7.480 6.660\n",
      "shine        2016  top32 fireblaster        shears             yoshi    pika     7.480 6.660\n",
      "apex         2016  wf    fireblaster        stranded           yoshi    pika     7.480 8.500\n",
      "apex         2016  wf    stranded           fireblaster        pika     yoshi    8.500 7.480\n",
      "summit       2016  lf    ybombb             barksanchez        yoshi    pika     6.800 7.680\n",
      "summit       2016  lf    barksanchez        ybombb             pika     yoshi    7.680 6.800\n",
      "superboomed  2016  lf    alvin              superboomfan       pika     yoshi    9.740 9.920\n",
      "bossbattle2  2016  top8  fireblaster        barksanchez        yoshi    pika     7.480 7.680\n",
      "bossbattle2  2016  top8  barksanchez        fireblaster        pika     yoshi    7.680 7.480\n",
      "bossbattle2  2016  top8  barksanchez        fireblaster        pika     yoshi    7.680 7.480\n",
      "dpotg        2016  lf    mariguas           wizzrobe           pika     yoshi    9.380 9.090\n",
      "dpotg        2016  lf    mariguas           wizzrobe           pika     yoshi    9.380 9.090\n",
      "dpotg        2016  lf    mariguas           wizzrobe           pika     yoshi    9.380 9.090\n",
      "dpotg        2016  ls    wizzrobe           barksanchez        yoshi    pika     9.090 7.680\n",
      "dpotg        2016  ls    wizzrobe           barksanchez        yoshi    pika     9.090 7.680\n",
      "dpotg        2016  ls    wizzrobe           barksanchez        yoshi    pika     9.090 7.680\n",
      "dpotg        2016  ws    mariguas           wizzrobe           pika     yoshi    9.380 9.090\n",
      "dpotg        2016  ws    mariguas           wizzrobe           pika     yoshi    9.380 9.090\n",
      "dpotg        2016  ws    wizzrobe           mariguas           yoshi    pika     9.090 9.380\n",
      "dpotg        2016  ws    mariguas           wizzrobe           pika     yoshi    9.380 9.090\n",
      "dpotg        2016  wq    barksanchez        fireblaster        pika     yoshi    7.680 7.480\n",
      "dpotg        2016  wq    fireblaster        barksanchez        yoshi    pika     7.480 7.680\n",
      "dpotg        2016  wq    fireblaster        barksanchez        yoshi    pika     7.480 7.680\n",
      "dpotg        2016  wq    barksanchez        fireblaster        pika     yoshi    7.680 7.480\n",
      "dpotg        2016  wq    barksanchez        fireblaster        pika     yoshi    7.680 7.480\n",
      "109\n",
      "Counter({'pika': 60, 'yoshi': 49})\n"
     ]
    }
   ],
   "source": [
    "# Character Match-up percentages\n",
    "\n",
    "import smasharchive, smashplots\n",
    "\n",
    "db = smasharchive.smashdb()\n",
    "db.tournament_name_skip['kansai'] = 0\n",
    "db.refilter_archive()\n",
    "db.refilter_archive_for_ssbcentral(threshold=10)\n",
    "\n",
    "print(\"\")\n",
    "len(db.player_rankings)\n",
    "\n",
    "char1 = 'yoshi'\n",
    "char2 = 'pika'\n",
    "\n",
    "data_matrix = db.print_char_mu( set( [char1, char2] ) )\n",
    "\n",
    "print(\"{}\".format(len(data_matrix)))\n",
    "\n",
    "import collections\n",
    "import numpy\n",
    "data_matrix = numpy.array(data_matrix)\n",
    "winchars = collections.Counter( [ x for x in data_matrix[:, 5] ] )\n",
    "print(winchars)"
   ]
  },
  {
   "cell_type": "code",
   "execution_count": 21,
   "metadata": {
    "collapsed": false
   },
   "outputs": [
    {
     "name": "stdout",
     "output_type": "stream",
     "text": [
      "['genesis 3' '2016' 'top16' 'wario' 'wizzrobe' 'pika' 'yoshi' '9.98' '9.09']\n"
     ]
    }
   ],
   "source": [
    "import matplotlib.pyplot as plt\n",
    "\n",
    "print(data_matrix[0,:])\n",
    "\n",
    "winner_ratings = [ float(x) for x in data_matrix[:, 7] ]\n",
    "loser_ratings = [ float(x) for x in data_matrix[:, 8] ]\n",
    "\n",
    "# indices when char1 wins; when char 2 wins\n",
    "temp_winnerlist = data_matrix[:,5]\n",
    "char1_indices = [ idx for idx, char in enumerate(temp_winnerlist) if char == char1]\n",
    "char2_indices = [ idx for idx, char in enumerate(temp_winnerlist) if char == char2]"
   ]
  },
  {
   "cell_type": "code",
   "execution_count": 26,
   "metadata": {
    "collapsed": false
   },
   "outputs": [
    {
     "data": {
      "image/png": "[encoded data removed]",
      "text/plain": [
       "<matplotlib.figure.Figure at 0x7fb70a5d10f0>"
      ]
     },
     "metadata": {},
     "output_type": "display_data"
    }
   ],
   "source": [
    "plt.clf()\n",
    "plt.scatter( [loser_ratings[j] for j in char1_indices], [ winner_ratings[j] for j in char1_indices], marker='.', color='red', label=char1 +' win')\n",
    "plt.scatter( [loser_ratings[j] for j in char2_indices], [ winner_ratings[j] for j in char2_indices], marker='+', color='green', label=char2 + ' win')\n",
    "plt.plot( [2], [2])\n",
    "plt.plot( [4,10], [4,10] )\n",
    "plt.title(\"{} vs {} ; # games = {}\".format(char1, char2, len(winner_ratings)))\n",
    "plt.ylabel(\"winner rating\")\n",
    "plt.xlabel(\"loser rating\")\n",
    "plt.legend(loc='lower left')\n",
    "plt.show()"
   ]
  },
  {
   "cell_type": "code",
   "execution_count": 23,
   "metadata": {
    "collapsed": false
   },
   "outputs": [
    {
     "name": "stdout",
     "output_type": "stream",
     "text": [
      "['genesis 3' '2016' 'top16' 'wario' 'wizzrobe' 'pika' 'yoshi' '9.98' '9.09']\n"
     ]
    }
   ],
   "source": [
    "print(data_matrix[0,:])\n",
    "\n",
    "winner_ratings = [ float(x) for x in data_matrix[:, 7] ]\n",
    "loser_ratings = [ float(x) for x in data_matrix[:, 8] ]\n",
    "\n",
    "# indices when char1 wins; when char 2 wins\n",
    "temp_winnerlist = data_matrix[:,5]\n",
    "char1_indices = [ idx for idx, char in enumerate(temp_winnerlist) if char == char1]\n",
    "char2_indices = [ idx for idx, char in enumerate(temp_winnerlist) if char == char2]"
   ]
  }
 ],
 "metadata": {
  "kernelspec": {
   "display_name": "Python 3",
   "language": "python",
   "name": "python3"
  },
  "language_info": {
   "codemirror_mode": {
    "name": "ipython",
    "version": 3
   },
   "file_extension": ".py",
   "mimetype": "text/x-python",
   "name": "python",
   "nbconvert_exporter": "python",
   "pygments_lexer": "ipython3",
   "version": "3.6.0"
  }
 },
 "nbformat": 4,
 "nbformat_minor": 2
}
