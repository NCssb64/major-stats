{
 "cells": [
  {
   "cell_type": "code",
   "execution_count": 1,
   "metadata": {
    "collapsed": false
   },
   "outputs": [
    {
     "name": "stdout",
     "output_type": "stream",
     "text": [
      "initiatlizing smashdb\n",
      "\n",
      "Tournament   Year  Round Winner             Loser              Winner   Loser    W-rating L-rating\n",
      "pound        2016  top8  superboomfan       wizzrobe           kirby    yoshi       9.920    9.090\n",
      "pound        2016  top8  superboomfan       wizzrobe           kirby    yoshi       9.920    9.090\n",
      "pound        2016  wf    superboomfan       tacos              kirby    yoshi       9.920    8.880\n",
      "goml         2016  top8  wizzrobe           revan              yoshi    kirby       9.090    8.480\n",
      "goml         2016  top8  revan              wizzrobe           kirby    yoshi       8.480    9.090\n",
      "goml         2016  top8  revan              wizzrobe           kirby    yoshi       8.480    9.090\n",
      "goml         2016  top8  revan              wizzrobe           kirby    yoshi       8.480    9.090\n",
      "goml         2016  top8  wizzrobe           kerokeroppi        yoshi    kirby       9.090    8.860\n",
      "goml         2016  top16 kerokeroppi        fireblaster        kirby    yoshi       8.860    7.480\n",
      "snosa2       2016  top8  tacos              mariguas           yoshi    kirby       8.880    9.380\n",
      "ssc          2016  top32 revan              bonobono           kirby    yoshi       8.480    7.830\n",
      "ssc          2016  top32 revan              bonobono           kirby    yoshi       8.480    7.830\n",
      "ssc          2016  top32 thez               tacos              kirby    yoshi       8.860    8.880\n",
      "ssc          2016  top8  wizzrobe           thez               yoshi    kirby       9.090    8.860\n",
      "ssc          2016  wf    superboomfan       wizzrobe           kirby    yoshi       9.920    9.090\n",
      "ssc          2016  wf    superboomfan       wizzrobe           kirby    yoshi       9.920    9.090\n",
      "ssc          2016  gf    wizzrobe           superboomfan       yoshi    kirby       9.090    9.920\n",
      "ssc          2016  gf    superboomfan       wizzrobe           kirby    yoshi       9.920    9.090\n",
      "ssc          2016  gf    superboomfan       wizzrobe           kirby    yoshi       9.920    9.090\n",
      "ssc          2016  gf    superboomfan       wizzrobe           kirby    yoshi       9.920    9.090\n",
      "apex         2016  ws    fireblaster        cobr               yoshi    kirby       7.480    6.350\n",
      "apex         2016  ws    fireblaster        cobr               yoshi    kirby       7.480    6.350\n",
      "apex         2016  ws    cobr               fireblaster        kirby    yoshi       6.350    7.480\n",
      "apex         2016  wf    stranded           fireblaster        kirby    yoshi       8.500    7.480\n",
      "apex         2016  lf    starking           fireblaster        kirby    yoshi       6.720    7.480\n",
      "apex         2016  lf    starking           fireblaster        kirby    yoshi       6.720    7.480\n",
      "apex         2016  lf    starking           fireblaster        kirby    yoshi       6.720    7.480\n",
      "superboomed  2016  lq    revan              firo               kirby    yoshi       8.480    7.470\n",
      "superboomed  2016  top8  revan              fireblaster        kirby    yoshi       8.480    7.480\n",
      "superboomed  2016  top8  revan              fireblaster        kirby    yoshi       8.480    7.480\n",
      "superboomed  2016  top8  revan              fireblaster        kirby    yoshi       8.480    7.480\n",
      "superboomed  2016  top32 fireblaster        handsometom        yoshi    kirby       7.480    6.580\n",
      "superboomed  2016  top32 handsometom        fireblaster        kirby    yoshi       6.580    7.480\n",
      "superboomed  2016  top32 handsometom        fireblaster        kirby    yoshi       6.580    7.480\n",
      "bossbattle2  2016  top8  dtan               shears             kirby    yoshi       7.400    6.660\n",
      "bossbattle2  2016  top8  dtan               shears             kirby    yoshi       7.400    6.660\n",
      "36\n"
     ]
    }
   ],
   "source": [
    "# Character Match-up percentages\n",
    "\n",
    "import smasharchive, smashplots\n",
    "\n",
    "db = smasharchive.smashdb()\n",
    "db.tournament_name_skip['kansai'] = 0\n",
    "db.refilter_archive()\n",
    "db.refilter_archive_for_ssbcentral(threshold=10)\n",
    "\n",
    "print(\"\")\n",
    "len(db.player_rankings)\n",
    "\n",
    "char1 = 'kirby'\n",
    "char2 = 'yoshi'\n",
    "\n",
    "data_matrix = db.print_char_mu( set( [char1, char2] ) )\n",
    "\n",
    "print(\"{}\".format(len(data_matrix)))\n",
    "\n",
    "import collections\n",
    "import numpy\n",
    "data_matrix = numpy.array(data_matrix)\n",
    "winchars = collections.Counter( [ x for x in data_matrix[:, 5] ] )\n",
    "#print(winchars)"
   ]
  },
  {
   "cell_type": "code",
   "execution_count": 2,
   "metadata": {
    "collapsed": false
   },
   "outputs": [
    {
     "name": "stdout",
     "output_type": "stream",
     "text": [
      "['pound' '2016' 'top8' 'superboomfan' 'wizzrobe' 'kirby' 'yoshi' '9.92'\n",
      " '9.09']\n"
     ]
    }
   ],
   "source": [
    "import matplotlib.pyplot as plt\n",
    "\n",
    "print(data_matrix[0,:])\n",
    "\n",
    "winner_ratings = [ float(x) for x in data_matrix[:, 7] ]\n",
    "loser_ratings = [ float(x) for x in data_matrix[:, 8] ]\n",
    "\n",
    "# indices when char1 wins; when char 2 wins\n",
    "temp_winnerlist = data_matrix[:,5]\n",
    "char1_indices = [ idx for idx, char in enumerate(temp_winnerlist) if char == char1]\n",
    "char2_indices = [ idx for idx, char in enumerate(temp_winnerlist) if char == char2]"
   ]
  },
  {
   "cell_type": "code",
   "execution_count": 3,
   "metadata": {
    "collapsed": false
   },
   "outputs": [
    {
     "data": {
      "image/png": "[encoded data removed]",
      "text/plain": [
       "<matplotlib.figure.Figure at 0x7f3f1c0cc940>"
      ]
     },
     "metadata": {},
     "output_type": "display_data"
    }
   ],
   "source": [
    "plt.clf()\n",
    "plt.scatter( [loser_ratings[j] for j in char1_indices], [ winner_ratings[j] for j in char1_indices], marker='.', color='red', label=char1 +' win')\n",
    "plt.scatter( [loser_ratings[j] for j in char2_indices], [ winner_ratings[j] for j in char2_indices], marker='+', color='green', label=char2 + ' win')\n",
    "plt.plot( [2], [2])\n",
    "plt.plot( [4,10], [4,10], label='ratings equal' )\n",
    "plt.title(\"{} vs {} ; # games = {}\".format(char1, char2, len(winner_ratings)))\n",
    "plt.ylabel(\"winner rating\")\n",
    "plt.xlabel(\"loser rating\")\n",
    "plt.legend(loc='lower left')\n",
    "plt.show()"
   ]
  },
  {
   "cell_type": "code",
   "execution_count": 4,
   "metadata": {
    "collapsed": false
   },
   "outputs": [
    {
     "data": {
      "image/png": "[encoded data removed]",
      "text/plain": [
       "<matplotlib.figure.Figure at 0x7f3f1c12cda0>"
      ]
     },
     "metadata": {},
     "output_type": "display_data"
    }
   ],
   "source": [
    "char1_win_rating_diffs = [ (winner_ratings[idx] - loser_ratings[idx]) for idx in char1_indices ]\n",
    "char2_win_rating_diffs = [ (winner_ratings[idx] - loser_ratings[idx]) for idx in char2_indices ]\n",
    "\n",
    "# for idx in char1_indices:\n",
    "#     diff = winner_ratings[idx] - loser_ratings[idx]\n",
    "#     print( \"{:5.15f}  {:5.15f}  {}\".format(winner_ratings[idx], loser_ratings[idx], diff))\n",
    "\n",
    "    \n",
    "plt.clf()\n",
    "plt.boxplot( [char1_win_rating_diffs, char2_win_rating_diffs], labels = [char1 + ' wins', char2 + ' wins'] )\n",
    "plt.title(\"Difference in player rating for {} vs {}\".format(char1, char2))\n",
    "plt.ylabel(\"winner rating - loser rating\")\n",
    "\n",
    "plt.show()"
   ]
  },
  {
   "cell_type": "code",
   "execution_count": 5,
   "metadata": {
    "collapsed": false
   },
   "outputs": [],
   "source": [
    "import collections\n",
    "\n",
    "plt.clf()\n",
    "\n",
    "plt.hist(char1_win_rating_diffs, alpha=0.5, label='{} wins; {}'.format(char1, len(char1_win_rating_diffs)))\n",
    "plt.hist(char2_win_rating_diffs, alpha=0.5, label='{} wins; {}'.format(char2, len(char2_win_rating_diffs)))\n",
    "plt.legend(loc='upper left')\n",
    "plt.title(\"Games between ssbcentral-rated players\")\n",
    "plt.ylabel(\"Number of wins\")\n",
    "plt.xlabel(\"Difference between winner rating and loser rating\")\n",
    "#plt.show()\n",
    "plt.rcParams[\"figure.figsize\"] = [2.5,3.5]\n",
    "plt.savefig('rated-mu-analysis-{}-{}.png'.format(char1, char2), dpi=200)"
   ]
  },
  {
   "cell_type": "code",
   "execution_count": 6,
   "metadata": {
    "collapsed": false
   },
   "outputs": [
    {
     "name": "stdout",
     "output_type": "stream",
     "text": [
      "Current size: [2.5, 3.5]\n"
     ]
    },
    {
     "data": {
      "image/png": "[encoded data removed]",
      "text/plain": [
       "<matplotlib.figure.Figure at 0x7f3ef5d6d240>"
      ]
     },
     "metadata": {},
     "output_type": "display_data"
    }
   ],
   "source": [
    "import collections\n",
    "\n",
    "plt.clf()\n",
    "\n",
    "char1rates, char1counts = zip(*[ (x,y) for x,y in collections.Counter(char1_win_rating_diffs).items() ])\n",
    "char2rates, char2counts = zip(*[ (x,y) for x,y in collections.Counter(char2_win_rating_diffs).items() ])\n",
    "\n",
    "plt.bar(char1rates, char1counts, alpha=0.5, width=0.015, label=char1)# label='{} wins; {}'.format(char1, len(char1_win_rating_diffs)))\n",
    "plt.bar(char2rates, char2counts, alpha=0.5, width=0.015, label=char2)#\n",
    "plt.legend(loc='upper left', frameon=False)\n",
    "plt.title(\"ssbcentral-rated games: {} vs {}\".format(char1, char2))\n",
    "plt.ylabel(\"Number of wins\")\n",
    "plt.xlabel(\"Difference between winner rating and loser rating\")\n",
    "\n",
    "# Get current size\n",
    "fig_size = plt.rcParams[\"figure.figsize\"]\n",
    " \n",
    "# Prints: [8.0, 6.0]\n",
    "print(\"Current size: {}\".format(fig_size))\n",
    " \n",
    "# Set figure width to 12 and height to 9\n",
    "fig_size[0] = 8\n",
    "fig_size[1] = 3\n",
    "plt.rcParams[\"figure.figsize\"] = fig_size\n",
    "\n",
    "plt.show()\n"
   ]
  }
 ],
 "metadata": {
  "kernelspec": {
   "display_name": "Python 3",
   "language": "python",
   "name": "python3"
  },
  "language_info": {
   "codemirror_mode": {
    "name": "ipython",
    "version": 3
   },
   "file_extension": ".py",
   "mimetype": "text/x-python",
   "name": "python",
   "nbconvert_exporter": "python",
   "pygments_lexer": "ipython3",
   "version": "3.6.0"
  }
 },
 "nbformat": 4,
 "nbformat_minor": 2
}
