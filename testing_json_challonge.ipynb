{
 "cells": [
  {
   "cell_type": "code",
   "execution_count": 2,
   "metadata": {
    "collapsed": false
   },
   "outputs": [
    {
     "ename": "TypeError",
     "evalue": "string indices must be integers",
     "output_type": "error",
     "traceback": [
      "\u001b[0;31m---------------------------------------------------------------------------\u001b[0m",
      "\u001b[0;31mTypeError\u001b[0m                                 Traceback (most recent call last)",
      "\u001b[0;32m<ipython-input-2-6058d51aa432>\u001b[0m in \u001b[0;36m<module>\u001b[0;34m()\u001b[0m\n\u001b[1;32m      3\u001b[0m \u001b[0mwhich_player\u001b[0m \u001b[0;34m=\u001b[0m \u001b[0;36m0\u001b[0m\u001b[0;34m\u001b[0m\u001b[0m\n\u001b[1;32m      4\u001b[0m \u001b[0;32mfor\u001b[0m \u001b[0mmatch\u001b[0m \u001b[0;32min\u001b[0m \u001b[0mdata\u001b[0m\u001b[0;34m:\u001b[0m\u001b[0;34m\u001b[0m\u001b[0m\n\u001b[0;32m----> 5\u001b[0;31m     \u001b[0mget_match\u001b[0m \u001b[0;34m=\u001b[0m \u001b[0mmatch\u001b[0m\u001b[0;34m[\u001b[0m\u001b[0;34m'match'\u001b[0m\u001b[0;34m]\u001b[0m\u001b[0;34m\u001b[0m\u001b[0m\n\u001b[0m\u001b[1;32m      6\u001b[0m     \u001b[0mpid1\u001b[0m \u001b[0;34m=\u001b[0m \u001b[0mget_match\u001b[0m\u001b[0;34m[\u001b[0m\u001b[0;34m'player1_id'\u001b[0m\u001b[0;34m]\u001b[0m\u001b[0;34m\u001b[0m\u001b[0m\n\u001b[1;32m      7\u001b[0m     \u001b[0mpid2\u001b[0m \u001b[0;34m=\u001b[0m \u001b[0mget_match\u001b[0m\u001b[0;34m[\u001b[0m\u001b[0;34m'player2_id'\u001b[0m\u001b[0;34m]\u001b[0m\u001b[0;34m\u001b[0m\u001b[0m\n",
      "\u001b[0;31mTypeError\u001b[0m: string indices must be integers"
     ]
    }
   ],
   "source": [
    "import json\n",
    "import numpy as np\n",
    "from pprint import pprint\n",
    "\n",
    "with open('json_data/boxcartournament.json') as data_file:    \n",
    "    data = json.load(data_file)\n",
    "\n",
    "# pprint(data)\n",
    "\n",
    "player2num = {}\n",
    "num2player = []\n",
    "which_player = 0\n",
    "for match in data:\n",
    "    get_match = match['match']\n",
    "    pid1 = get_match['player1_id']\n",
    "    pid2 = get_match['player2_id']\n",
    "    if pid1 not in player2num.keys():\n",
    "        player2num[pid1] = which_player\n",
    "        num2player.append(pid1)\n",
    "        which_player = which_player+1\n",
    "    if pid2 not in player2num.keys():\n",
    "        player2num[pid2] = which_player\n",
    "        num2player.append(pid2)\n",
    "        which_player = which_player+1  \n",
    "    #print( pid1, pid2, get_match['winner_id'], get_match['loser_id'] )\n",
    "\n",
    "numplayers = len(player2num)\n",
    "gamemat = np.zeros( (numplayers,numplayers) )\n",
    "matchmat = np.zeros( (numplayers,numplayers) )\n",
    "for match in data:\n",
    "    pid1 = match['match']['player1_id']\n",
    "    pid2 = match['match']['player2_id']\n",
    "    winid = match['match']['winner_id']\n",
    "    loserid = match['match']['loser_id']\n",
    "    p1wins = match['match']['scores_csv'][0]\n",
    "    p2wins = match['match']['scores_csv'][2]\n",
    "    matchmat[ player2num[winid], player2num[loserid] ] = matchmat[ player2num[winid], player2num[loserid] ] + 1\n",
    "    gamemat[ player2num[pid1], player2num[pid2] ] = gamemat[ player2num[pid1], player2num[pid2] ] + int(p1wins)\n",
    "    gamemat[ player2num[pid2], player2num[pid1] ] = gamemat[ player2num[pid2], player2num[pid1] ] + int(p2wins)\n",
    "    "
   ]
  }
 ],
 "metadata": {
  "kernelspec": {
   "display_name": "Python 3",
   "language": "python",
   "name": "python3"
  },
  "language_info": {
   "codemirror_mode": {
    "name": "ipython",
    "version": 3
   },
   "file_extension": ".py",
   "mimetype": "text/x-python",
   "name": "python",
   "nbconvert_exporter": "python",
   "pygments_lexer": "ipython3",
   "version": "3.5.2"
  }
 },
 "nbformat": 4,
 "nbformat_minor": 1
}
