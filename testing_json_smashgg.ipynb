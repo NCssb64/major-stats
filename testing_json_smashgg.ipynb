{
 "cells": [
  {
   "cell_type": "code",
   "execution_count": 40,
   "metadata": {
    "collapsed": false
   },
   "outputs": [
    {
     "name": "stdout",
     "output_type": "stream",
     "text": [
      "b' '\n",
      "{\"e []}\n",
      "('{\"entities\":{\"groups\":{\"id\":343547,\"phaseId\":118402,\"waveId\":15531,\"poolRefId\":null,\"groupTypeId\":3,\"title\":null,\"identifier\":\"7\",\"displayIdentifier\":\"C61\",\"state\":3,\"tiebreakOrder\":null,\"tiebreaks\":null,\"bestOf\":null,\"setsOnDeck\":3,\"rematchSeconds\":0,\"finalized\":true,\"winnersTargetPhaseId\":118403,\"numProgressing\":2,\"losersTargetPhaseId\":null,\"startAt\":1487426400,\"startedAt\":null,\"seeds\":[],\"sets\":[],\"rounds\":[],\"numRounds\":null,\"pointsPerMatchWin\":null,\"pointsPerGameWin\":0,\"pointsPerBye\":null,\"matchmakingEnabled\":false,\"scheduleId\":131046,\"stationId\":35263,\"expand\":[\"sets\"],\"hasSets\":true,\"hasCustomWinnerByes\":false},\"sets\":[{\"id\":7509402,\"eventId\":20848,\"phaseGroupId\":343547,\"stationId\":null,\"entrant1Id\":355398,\"entrant2Id\":429536,\"winnerId\":355398,\"loserId\":429536,\"bracketId\":\"58a50e52838e8\",\"entrant1PrereqType\":\"seed\",\"entrant1PrereqId\":4840968,\"entrant1PrereqCondition\":null,\"entrant2PrereqType\":\"seed\",\"entrant2PrereqId\":4841000,\"entrant2PrereqCondition\":null,\"wProgressionSeedId\":null,\"lProgressionSeedId\":null,\"wPlacement\":null,\"lPlacement\":null,\"wOverallPlacement\":null,\"lOverallPlacement\":null,\"lEligiblePhaseId\":null,\"wEligiblePhaseId\":null,\"unreachable\":false,\"isTiebreak\":false,\"type\":1,\"crewPlayerCount\":null,\"identifier\":\"A\",\"round\":1,\"state\":3,\"entrant1Score\":0,\"entrant2Score\":-1,\"bestOf\":3,\"totalGames\":5,\"setGamesType\":1,\"isLast\":false,\"isGF\":false,\"hasPlaceholder\":false,\"entrant1Present\":true,\"entrant2Present\":true,\"adminViewedBy\":null,\"adminMessagedBy\":null,\"tasksPruned\":null,\"subState\":[],\"modRequestedBy\":null,\"modRequestedAt\":null,\"vodUrl\":null,\"fbUrl\":null,\"smashggUrl\":null,\"durationSeconds\":null,\"updatedAt\":1487427537,\"updatedAtMicro\":1487427537.0527,\"startAt\":null,\"startedAt\":1487427533,\"completedAt\":1487427537,\"adminViewedAt\":null,\"adminMessagedAt\":null,\"progressionPlacement\":null,\"progressionCount\":null,\"games\":[],\"videogameId\":4,\"eventType\":1,\"images\":[],\"expand\":[\"crew_lineup\",\"station\"],\"displayRound\":1,\"originalRound\":1,\"fullRoundText\":\"Round '\n",
      " '1\",\"midRoundText\":\"Round '\n",
      " '1\",\"shortRoundText\":\"R1\",\"roundDivision\":null},{\"id\":7509403,\"eventId\":20848,\"phaseGroupId\":343547,\"stationId\":null,\"entrant1Id\":402500,\"entrant2Id\":388743,\"winnerId\":402500,\"loserId\":388743,\"bracketId\":\"58a50e52838e8\",\"entrant1PrereqType\":\"seed\",\"entrant1PrereqId\":4840989,\"entrant1PrereqCondition\":null,\"entrant2PrereqType\":\"seed\",\"entrant2PrereqId\":4840980,\"entrant2PrereqCondition\":null,\"wProgressionSeedId\":null,\"lProgressionSeedId\":null,\"wPlacement\":null,\"lPlacement\":null,\"wOverallPlacement\":null,\"lOverallPlacement\":null,\"lEligiblePhaseId\":null,\"wEligiblePhaseId\":null,\"unreachable\":false,\"isTiebreak\":false,\"type\":1,\"crewPlayerCount\":null,\"identifier\":\"B\",\"round\":1,\"state\":3,\"entrant1Score\":0,\"entrant2Score\":-1,\"bestOf\":3,\"totalGames\":5,\"setGamesType\":1,\"isLast\":false,\"isGF\":false,\"hasPlaceholder\":false,\"entrant1Present\":true,\"entrant2Present\":true,\"adminViewedBy\":null,\"adminMessagedBy\":null,\"tasksPruned\":null,\"subState\":[],\"modRequestedBy\":null,\"modRequestedAt\":null,\"vodUrl\":null,\"fbUrl\":null,\"smashggUrl\":null,\"durationSeconds\":null,\"updatedAt\":1487427519,\"updatedAtMicro\":1487427519.193,\"startAt\":null,\"startedAt\":1487427516,\"completedAt\":1487427519,\"adminViewedAt\":null,\"adminMessagedAt\":null,\"progressionPlacement\":null,\"progressionCount\":null,\"games\":[],\"videogameId\":4,\"eventType\":1,\"images\":[],\"expand\":[\"crew_lineup\",\"station\"],\"displayRound\":1,\"originalRound\":1,\"fullRoundText\":\"Round '\n",
      " '1\",\"midRoundText\":\"Round '\n",
      " '1\",\"shortRoundText\":\"R1\",\"roundDivision\":null},{\"id\":7509404,\"eventId\":20848,\"phaseGroupId\":343547,\"stationId\":null,\"entrant1Id\":439067,\"entrant2Id\":429536,\"winnerId\":439067,\"loserId\":429536,\"bracketId\":\"58a50e52838e8\",\"entrant1PrereqType\":\"seed\",\"entrant1PrereqId\":4841002,\"entrant1PrereqCondition\":null,\"entrant2PrereqType\":\"seed\",\"entrant2PrereqId\":4841000,\"entrant2PrereqCondition\":null,\"wProgressionSeedId\":null,\"lProgressionSeedId\":null,\"wPlacement\":null,\"lPlacement\":null,\"wOverallPlacement\":null,\"lOverallPlacement\":null,\"lEligiblePhaseId\":null,\"wEligiblePhaseId\":null,\"unreachable\":false,\"isTiebreak\":false,\"type\":1,\"crewPlayerCount\":null,\"identifier\":\"C\",\"round\":2,\"state\":3,\"entrant1Score\":0,\"entrant2Score\":-1,\"bestOf\":3,\"totalGames\":5,\"setGamesType\":1,\"isLast\":false,\"isGF\":false,\"hasPlaceholder\":false,\"entrant1Present\":true,\"entrant2Present\":true,\"adminViewedBy\":null,\"adminMessagedBy\":null,\"tasksPruned\":null,\"subState\":[],\"modRequestedBy\":null,\"modRequestedAt\":null,\"vodUrl\":null,\"fbUrl\":null,\"smashggUrl\":null,\"durationSeconds\":null,\"updatedAt\":1487427530,\"updatedAtMicro\":1487427530.3011,\"startAt\":null,\"startedAt\":1487427528,\"completedAt\":1487427530,\"adminViewedAt\":null,\"adminMessagedAt\":null,\"progressionPlacement\":null,\"progressionCount\":null,\"games\":[],\"videogameId\":4,\"eventType\":1,\"images\":[],\"expand\":[\"crew_lineup\",\"station\"],\"displayRound\":2,\"originalRound\":2,\"fullRoundText\":\"Round '\n",
      " '2\",\"midRoundText\":\"Round '\n",
      " '2\",\"shortRoundText\":\"R2\",\"roundDivision\":null},{\"id\":7509405,\"eventId\":20848,\"phaseGroupId\":343547,\"stationId\":null,\"entrant1Id\":355398,\"entrant2Id\":402500,\"winnerId\":355398,\"loserId\":402500,\"bracketId\":\"58a50e52838e8\",\"entrant1PrereqType\":\"seed\",\"entrant1PrereqId\":4840968,\"entrant1PrereqCondition\":null,\"entrant2PrereqType\":\"seed\",\"entrant2PrereqId\":4840989,\"entrant2PrereqCondition\":null,\"wProgressionSeedId\":null,\"lProgressionSeedId\":null,\"wPlacement\":null,\"lPlacement\":null,\"wOverallPlacement\":null,\"lOverallPlacement\":null,\"lEligiblePhaseId\":null,\"wEligiblePhaseId\":null,\"unreachable\":false,\"isTiebreak\":false,\"type\":1,\"crewPlayerCount\":null,\"identifier\":\"D\",\"round\":2,\"state\":3,\"entrant1Score\":2,\"entrant2Score\":0,\"bestOf\":3,\"totalGames\":5,\"setGamesType\":1,\"isLast\":false,\"isGF\":false,\"hasPlaceholder\":false,\"entrant1Present\":true,\"entrant2Present\":true,\"adminViewedBy\":null,\"adminMessagedBy\":null,\"tasksPruned\":null,\"subState\":[],\"modRequestedBy\":null,\"modRequestedAt\":null,\"vodUrl\":null,\"fbUrl\":null,\"smashggUrl\":null,\"durationSeconds\":null,\"updatedAt\":1487427728,\"updatedAtMicro\":1487427728.242,\"startAt\":null,\"startedAt\":1487427725,\"completedAt\":1487427728,\"adminViewedAt\":null,\"adminMessagedAt\":null,\"progressionPlacement\":null,\"progressionCount\":null,\"games\":[],\"videogameId\":4,\"eventType\":1,\"images\":[],\"expand\":[\"crew_lineup\",\"station\"],\"displayRound\":2,\"originalRound\":2,\"fullRoundText\":\"Round '\n",
      " '2\",\"midRoundText\":\"Round '\n",
      " '2\",\"shortRoundText\":\"R2\",\"roundDivision\":null},{\"id\":7509406,\"eventId\":20848,\"phaseGroupId\":343547,\"stationId\":null,\"entrant1Id\":439067,\"entrant2Id\":388743,\"winnerId\":439067,\"loserId\":388743,\"bracketId\":\"58a50e52838e8\",\"entrant1PrereqType\":\"seed\",\"entrant1PrereqId\":4841002,\"entrant1PrereqCondition\":null,\"entrant2PrereqType\":\"seed\",\"entrant2PrereqId\":4840980,\"entrant2PrereqCondition\":null,\"wProgressionSeedId\":null,\"lProgressionSeedId\":null,\"wPlacement\":null,\"lPlacement\":null,\"wOverallPlacement\":null,\"lOverallPlacement\":null,\"lEligiblePhaseId\":null,\"wEligiblePhaseId\":null,\"unreachable\":false,\"isTiebreak\":false,\"type\":1,\"crewPlayerCount\":null,\"identifier\":\"E\",\"round\":3,\"state\":3,\"entrant1Score\":0,\"entrant2Score\":-1,\"bestOf\":3,\"totalGames\":5,\"setGamesType\":1,\"isLast\":false,\"isGF\":false,\"hasPlaceholder\":false,\"entrant1Present\":true,\"entrant2Present\":true,\"adminViewedBy\":null,\"adminMessagedBy\":null,\"tasksPruned\":null,\"subState\":[],\"modRequestedBy\":null,\"modRequestedAt\":null,\"vodUrl\":null,\"fbUrl\":null,\"smashggUrl\":null,\"durationSeconds\":null,\"updatedAt\":1487427506,\"updatedAtMicro\":1487427505.668,\"startAt\":null,\"startedAt\":1487427503,\"completedAt\":1487427505,\"adminViewedAt\":null,\"adminMessagedAt\":null,\"progressionPlacement\":null,\"progressionCount\":null,\"games\":[],\"videogameId\":4,\"eventType\":1,\"images\":[],\"expand\":[\"crew_lineup\",\"station\"],\"displayRound\":3,\"originalRound\":3,\"fullRoundText\":\"Round '\n",
      " '3\",\"midRoundText\":\"Round '\n",
      " '3\",\"shortRoundText\":\"R3\",\"roundDivision\":null},{\"id\":7509407,\"eventId\":20848,\"phaseGroupId\":343547,\"stationId\":null,\"entrant1Id\":429536,\"entrant2Id\":402500,\"winnerId\":402500,\"loserId\":429536,\"bracketId\":\"58a50e52838e8\",\"entrant1PrereqType\":\"seed\",\"entrant1PrereqId\":4841000,\"entrant1PrereqCondition\":null,\"entrant2PrereqType\":\"seed\",\"entrant2PrereqId\":4840989,\"entrant2PrereqCondition\":null,\"wProgressionSeedId\":null,\"lProgressionSeedId\":null,\"wPlacement\":null,\"lPlacement\":null,\"wOverallPlacement\":null,\"lOverallPlacement\":null,\"lEligiblePhaseId\":null,\"wEligiblePhaseId\":null,\"unreachable\":false,\"isTiebreak\":false,\"type\":1,\"crewPlayerCount\":null,\"identifier\":\"F\",\"round\":3,\"state\":3,\"entrant1Score\":-1,\"entrant2Score\":0,\"bestOf\":3,\"totalGames\":5,\"setGamesType\":1,\"isLast\":false,\"isGF\":false,\"hasPlaceholder\":false,\"entrant1Present\":true,\"entrant2Present\":true,\"adminViewedBy\":null,\"adminMessagedBy\":null,\"tasksPruned\":null,\"subState\":[],\"modRequestedBy\":null,\"modRequestedAt\":null,\"vodUrl\":null,\"fbUrl\":null,\"smashggUrl\":null,\"durationSeconds\":null,\"updatedAt\":1487427583,\"updatedAtMicro\":1487427583.3949,\"startAt\":null,\"startedAt\":1487427551,\"completedAt\":1487427583,\"adminViewedAt\":null,\"adminMessagedAt\":null,\"progressionPlacement\":null,\"progressionCount\":null,\"games\":[],\"videogameId\":4,\"eventType\":1,\"images\":[],\"expand\":[\"crew_lineup\",\"station\"],\"displayRound\":3,\"originalRound\":3,\"fullRoundText\":\"Round '\n",
      " '3\",\"midRoundText\":\"Round '\n",
      " '3\",\"shortRoundText\":\"R3\",\"roundDivision\":null},{\"id\":7509408,\"eventId\":20848,\"phaseGroupId\":343547,\"stationId\":null,\"entrant1Id\":439067,\"entrant2Id\":402500,\"winnerId\":439067,\"loserId\":402500,\"bracketId\":\"58a50e52838e8\",\"entrant1PrereqType\":\"seed\",\"entrant1PrereqId\":4841002,\"entrant1PrereqCondition\":null,\"entrant2PrereqType\":\"seed\",\"entrant2PrereqId\":4840989,\"entrant2PrereqCondition\":null,\"wProgressionSeedId\":null,\"lProgressionSeedId\":null,\"wPlacement\":null,\"lPlacement\":null,\"wOverallPlacement\":null,\"lOverallPlacement\":null,\"lEligiblePhaseId\":null,\"wEligiblePhaseId\":null,\"unreachable\":false,\"isTiebreak\":false,\"type\":1,\"crewPlayerCount\":null,\"identifier\":\"G\",\"round\":4,\"state\":3,\"entrant1Score\":2,\"entrant2Score\":0,\"bestOf\":3,\"totalGames\":5,\"setGamesType\":1,\"isLast\":false,\"isGF\":false,\"hasPlaceholder\":false,\"entrant1Present\":true,\"entrant2Present\":true,\"adminViewedBy\":null,\"adminMessagedBy\":null,\"tasksPruned\":null,\"subState\":[],\"modRequestedBy\":null,\"modRequestedAt\":null,\"vodUrl\":null,\"fbUrl\":null,\"smashggUrl\":null,\"durationSeconds\":null,\"updatedAt\":1487427718,\"updatedAtMicro\":1487427717.9574,\"startAt\":null,\"startedAt\":1487427715,\"completedAt\":1487427717,\"adminViewedAt\":null,\"adminMessagedAt\":null,\"progressionPlacement\":null,\"progressionCount\":null,\"games\":[],\"videogameId\":4,\"eventType\":1,\"images\":[],\"expand\":[\"crew_lineup\",\"station\"],\"displayRound\":4,\"originalRound\":4,\"fullRoundText\":\"Round '\n",
      " '4\",\"midRoundText\":\"Round '\n",
      " '4\",\"shortRoundText\":\"R4\",\"roundDivision\":null},{\"id\":7509409,\"eventId\":20848,\"phaseGroupId\":343547,\"stationId\":null,\"entrant1Id\":388743,\"entrant2Id\":355398,\"winnerId\":355398,\"loserId\":388743,\"bracketId\":\"58a50e52838e8\",\"entrant1PrereqType\":\"seed\",\"entrant1PrereqId\":4840980,\"entrant1PrereqCondition\":null,\"entrant2PrereqType\":\"seed\",\"entrant2PrereqId\":4840968,\"entrant2PrereqCondition\":null,\"wProgressionSeedId\":null,\"lProgressionSeedId\":null,\"wPlacement\":null,\"lPlacement\":null,\"wOverallPlacement\":null,\"lOverallPlacement\":null,\"lEligiblePhaseId\":null,\"wEligiblePhaseId\":null,\"unreachable\":false,\"isTiebreak\":false,\"type\":1,\"crewPlayerCount\":null,\"identifier\":\"H\",\"round\":4,\"state\":3,\"entrant1Score\":-1,\"entrant2Score\":0,\"bestOf\":3,\"totalGames\":5,\"setGamesType\":1,\"isLast\":false,\"isGF\":false,\"hasPlaceholder\":false,\"entrant1Present\":true,\"entrant2Present\":true,\"adminViewedBy\":null,\"adminMessagedBy\":null,\"tasksPruned\":null,\"subState\":[],\"modRequestedBy\":null,\"modRequestedAt\":null,\"vodUrl\":null,\"fbUrl\":null,\"smashggUrl\":null,\"durationSeconds\":null,\"updatedAt\":1487427513,\"updatedAtMicro\":1487427513.3162,\"startAt\":null,\"startedAt\":1487427509,\"completedAt\":1487427513,\"adminViewedAt\":null,\"adminMessagedAt\":null,\"progressionPlacement\":null,\"progressionCount\":null,\"games\":[],\"videogameId\":4,\"eventType\":1,\"images\":[],\"expand\":[\"crew_lineup\",\"station\"],\"displayRound\":4,\"originalRound\":4,\"fullRoundText\":\"Round '\n",
      " '4\",\"midRoundText\":\"Round '\n",
      " '4\",\"shortRoundText\":\"R4\",\"roundDivision\":null},{\"id\":7509410,\"eventId\":20848,\"phaseGroupId\":343547,\"stationId\":null,\"entrant1Id\":439067,\"entrant2Id\":355398,\"winnerId\":439067,\"loserId\":355398,\"bracketId\":\"58a50e52838e8\",\"entrant1PrereqType\":\"seed\",\"entrant1PrereqId\":4841002,\"entrant1PrereqCondition\":null,\"entrant2PrereqType\":\"seed\",\"entrant2PrereqId\":4840968,\"entrant2PrereqCondition\":null,\"wProgressionSeedId\":null,\"lProgressionSeedId\":null,\"wPlacement\":null,\"lPlacement\":null,\"wOverallPlacement\":null,\"lOverallPlacement\":null,\"lEligiblePhaseId\":null,\"wEligiblePhaseId\":null,\"unreachable\":false,\"isTiebreak\":false,\"type\":1,\"crewPlayerCount\":null,\"identifier\":\"I\",\"round\":5,\"state\":3,\"entrant1Score\":2,\"entrant2Score\":0,\"bestOf\":3,\"totalGames\":5,\"setGamesType\":1,\"isLast\":false,\"isGF\":false,\"hasPlaceholder\":false,\"entrant1Present\":true,\"entrant2Present\":true,\"adminViewedBy\":null,\"adminMessagedBy\":null,\"tasksPruned\":null,\"subState\":[],\"modRequestedBy\":null,\"modRequestedAt\":null,\"vodUrl\":null,\"fbUrl\":null,\"smashggUrl\":null,\"durationSeconds\":null,\"updatedAt\":1487427488,\"updatedAtMicro\":1487427488.2766,\"startAt\":null,\"startedAt\":1487427474,\"completedAt\":1487427488,\"adminViewedAt\":null,\"adminMessagedAt\":null,\"progressionPlacement\":null,\"progressionCount\":null,\"games\":[],\"videogameId\":4,\"eventType\":1,\"images\":[],\"expand\":[\"crew_lineup\",\"station\"],\"displayRound\":5,\"originalRound\":5,\"fullRoundText\":\"Round '\n",
      " '5\",\"midRoundText\":\"Round '\n",
      " '5\",\"shortRoundText\":\"R5\",\"roundDivision\":null},{\"id\":7509411,\"eventId\":20848,\"phaseGroupId\":343547,\"stationId\":null,\"entrant1Id\":388743,\"entrant2Id\":429536,\"winnerId\":429536,\"loserId\":388743,\"bracketId\":\"58a50e52838e8\",\"entrant1PrereqType\":\"seed\",\"entrant1PrereqId\":4840980,\"entrant1PrereqCondition\":null,\"entrant2PrereqType\":\"seed\",\"entrant2PrereqId\":4841000,\"entrant2PrereqCondition\":null,\"wProgressionSeedId\":null,\"lProgressionSeedId\":null,\"wPlacement\":null,\"lPlacement\":null,\"wOverallPlacement\":null,\"lOverallPlacement\":null,\"lEligiblePhaseId\":null,\"wEligiblePhaseId\":null,\"unreachable\":false,\"isTiebreak\":false,\"type\":1,\"crewPlayerCount\":null,\"identifier\":\"J\",\"round\":5,\"state\":3,\"entrant1Score\":-1,\"entrant2Score\":0,\"bestOf\":3,\"totalGames\":5,\"setGamesType\":1,\"isLast\":false,\"isGF\":false,\"hasPlaceholder\":false,\"entrant1Present\":true,\"entrant2Present\":true,\"adminViewedBy\":null,\"adminMessagedBy\":null,\"tasksPruned\":null,\"subState\":[],\"modRequestedBy\":null,\"modRequestedAt\":null,\"vodUrl\":null,\"fbUrl\":null,\"smashggUrl\":null,\"durationSeconds\":null,\"updatedAt\":1487427524,\"updatedAtMicro\":1487427524.1136,\"startAt\":null,\"startedAt\":1487427522,\"completedAt\":1487427524,\"adminViewedAt\":null,\"adminMessagedAt\":null,\"progressionPlacement\":null,\"progressionCount\":null,\"games\":[],\"videogameId\":4,\"eventType\":1,\"images\":[],\"expand\":[\"crew_lineup\",\"station\"],\"displayRound\":5,\"originalRound\":5,\"fullRoundText\":\"Round '\n",
      " '5\",\"midRoundText\":\"Round '\n",
      " '5\",\"shortRoundText\":\"R5\",\"roundDivision\":null}]},\"result\":343547,\"resultEntity\":\"groups\",\"actionRecords\":[]}')\n"
     ]
    }
   ],
   "source": [
    "import json\n",
    "import numpy as np\n",
    "from pprint import pprint\n",
    "\n",
    "from urllib.request import urlopen\n",
    "target_url = 'https://api.smash.gg/phase_group/343547?expand[]=sets'\n",
    "#target_url = 'https://api.smash.gg/tournament/beast-7-1?expand[]=phase&expand[]=groups&expand[]=event'\n",
    "fname = 'beast7_tournament'\n",
    "\n",
    "munge_text = True\n",
    "path = 'json_data/'\n",
    "ftag = '.json'\n",
    "file = open( path+fname+ftag,'w')\n",
    "for line in urlopen(target_url):\n",
    "    if munge_text == True:\n",
    "        text = str(line)\n",
    "        print(text[0:2], text[-1])\n",
    "        newtext = text[2:-1]\n",
    "        print(newtext[0:3], newtext[-3:])\n",
    "    else:\n",
    "        newtext = str(line)\n",
    "    file.write( newtext )\n",
    "    \n",
    "pprint(newtext)\n"
   ]
  },
  {
   "cell_type": "code",
   "execution_count": 34,
   "metadata": {
    "collapsed": false
   },
   "outputs": [
    {
     "ename": "JSONDecodeError",
     "evalue": "Expecting value: line 1 column 1 (char 0)",
     "output_type": "error",
     "traceback": [
      "\u001b[0;31m---------------------------------------------------------------------------\u001b[0m",
      "\u001b[0;31mJSONDecodeError\u001b[0m                           Traceback (most recent call last)",
      "\u001b[0;32m<ipython-input-34-0799378f7d28>\u001b[0m in \u001b[0;36m<module>\u001b[0;34m()\u001b[0m\n\u001b[1;32m      1\u001b[0m \u001b[0;32mwith\u001b[0m \u001b[0mopen\u001b[0m\u001b[0;34m(\u001b[0m\u001b[0mpath\u001b[0m\u001b[0;34m+\u001b[0m\u001b[0mfname\u001b[0m\u001b[0;34m+\u001b[0m\u001b[0mftag\u001b[0m\u001b[0;34m,\u001b[0m \u001b[0;34m'r'\u001b[0m\u001b[0;34m)\u001b[0m \u001b[0;32mas\u001b[0m \u001b[0mdata_file\u001b[0m\u001b[0;34m:\u001b[0m\u001b[0;34m\u001b[0m\u001b[0m\n\u001b[0;32m----> 2\u001b[0;31m     \u001b[0mdata\u001b[0m \u001b[0;34m=\u001b[0m \u001b[0mjson\u001b[0m\u001b[0;34m.\u001b[0m\u001b[0mload\u001b[0m\u001b[0;34m(\u001b[0m\u001b[0mdata_file\u001b[0m\u001b[0;34m)\u001b[0m\u001b[0;34m\u001b[0m\u001b[0m\n\u001b[0m\u001b[1;32m      3\u001b[0m \u001b[0;34m\u001b[0m\u001b[0m\n\u001b[1;32m      4\u001b[0m \u001b[0mdata\u001b[0m\u001b[0;34m.\u001b[0m\u001b[0mkeys\u001b[0m\u001b[0;34m(\u001b[0m\u001b[0;34m)\u001b[0m\u001b[0;34m\u001b[0m\u001b[0m\n\u001b[1;32m      5\u001b[0m \u001b[0;34m\u001b[0m\u001b[0m\n",
      "\u001b[0;32m/usr/lib/python3.5/json/__init__.py\u001b[0m in \u001b[0;36mload\u001b[0;34m(fp, cls, object_hook, parse_float, parse_int, parse_constant, object_pairs_hook, **kw)\u001b[0m\n\u001b[1;32m    266\u001b[0m         \u001b[0mcls\u001b[0m\u001b[0;34m=\u001b[0m\u001b[0mcls\u001b[0m\u001b[0;34m,\u001b[0m \u001b[0mobject_hook\u001b[0m\u001b[0;34m=\u001b[0m\u001b[0mobject_hook\u001b[0m\u001b[0;34m,\u001b[0m\u001b[0;34m\u001b[0m\u001b[0m\n\u001b[1;32m    267\u001b[0m         \u001b[0mparse_float\u001b[0m\u001b[0;34m=\u001b[0m\u001b[0mparse_float\u001b[0m\u001b[0;34m,\u001b[0m \u001b[0mparse_int\u001b[0m\u001b[0;34m=\u001b[0m\u001b[0mparse_int\u001b[0m\u001b[0;34m,\u001b[0m\u001b[0;34m\u001b[0m\u001b[0m\n\u001b[0;32m--> 268\u001b[0;31m         parse_constant=parse_constant, object_pairs_hook=object_pairs_hook, **kw)\n\u001b[0m\u001b[1;32m    269\u001b[0m \u001b[0;34m\u001b[0m\u001b[0m\n\u001b[1;32m    270\u001b[0m \u001b[0;34m\u001b[0m\u001b[0m\n",
      "\u001b[0;32m/usr/lib/python3.5/json/__init__.py\u001b[0m in \u001b[0;36mloads\u001b[0;34m(s, encoding, cls, object_hook, parse_float, parse_int, parse_constant, object_pairs_hook, **kw)\u001b[0m\n\u001b[1;32m    317\u001b[0m             \u001b[0mparse_int\u001b[0m \u001b[0;32mis\u001b[0m \u001b[0;32mNone\u001b[0m \u001b[0;32mand\u001b[0m \u001b[0mparse_float\u001b[0m \u001b[0;32mis\u001b[0m \u001b[0;32mNone\u001b[0m \u001b[0;32mand\u001b[0m\u001b[0;34m\u001b[0m\u001b[0m\n\u001b[1;32m    318\u001b[0m             parse_constant is None and object_pairs_hook is None and not kw):\n\u001b[0;32m--> 319\u001b[0;31m         \u001b[0;32mreturn\u001b[0m \u001b[0m_default_decoder\u001b[0m\u001b[0;34m.\u001b[0m\u001b[0mdecode\u001b[0m\u001b[0;34m(\u001b[0m\u001b[0ms\u001b[0m\u001b[0;34m)\u001b[0m\u001b[0;34m\u001b[0m\u001b[0m\n\u001b[0m\u001b[1;32m    320\u001b[0m     \u001b[0;32mif\u001b[0m \u001b[0mcls\u001b[0m \u001b[0;32mis\u001b[0m \u001b[0;32mNone\u001b[0m\u001b[0;34m:\u001b[0m\u001b[0;34m\u001b[0m\u001b[0m\n\u001b[1;32m    321\u001b[0m         \u001b[0mcls\u001b[0m \u001b[0;34m=\u001b[0m \u001b[0mJSONDecoder\u001b[0m\u001b[0;34m\u001b[0m\u001b[0m\n",
      "\u001b[0;32m/usr/lib/python3.5/json/decoder.py\u001b[0m in \u001b[0;36mdecode\u001b[0;34m(self, s, _w)\u001b[0m\n\u001b[1;32m    337\u001b[0m \u001b[0;34m\u001b[0m\u001b[0m\n\u001b[1;32m    338\u001b[0m         \"\"\"\n\u001b[0;32m--> 339\u001b[0;31m         \u001b[0mobj\u001b[0m\u001b[0;34m,\u001b[0m \u001b[0mend\u001b[0m \u001b[0;34m=\u001b[0m \u001b[0mself\u001b[0m\u001b[0;34m.\u001b[0m\u001b[0mraw_decode\u001b[0m\u001b[0;34m(\u001b[0m\u001b[0ms\u001b[0m\u001b[0;34m,\u001b[0m \u001b[0midx\u001b[0m\u001b[0;34m=\u001b[0m\u001b[0m_w\u001b[0m\u001b[0;34m(\u001b[0m\u001b[0ms\u001b[0m\u001b[0;34m,\u001b[0m \u001b[0;36m0\u001b[0m\u001b[0;34m)\u001b[0m\u001b[0;34m.\u001b[0m\u001b[0mend\u001b[0m\u001b[0;34m(\u001b[0m\u001b[0;34m)\u001b[0m\u001b[0;34m)\u001b[0m\u001b[0;34m\u001b[0m\u001b[0m\n\u001b[0m\u001b[1;32m    340\u001b[0m         \u001b[0mend\u001b[0m \u001b[0;34m=\u001b[0m \u001b[0m_w\u001b[0m\u001b[0;34m(\u001b[0m\u001b[0ms\u001b[0m\u001b[0;34m,\u001b[0m \u001b[0mend\u001b[0m\u001b[0;34m)\u001b[0m\u001b[0;34m.\u001b[0m\u001b[0mend\u001b[0m\u001b[0;34m(\u001b[0m\u001b[0;34m)\u001b[0m\u001b[0;34m\u001b[0m\u001b[0m\n\u001b[1;32m    341\u001b[0m         \u001b[0;32mif\u001b[0m \u001b[0mend\u001b[0m \u001b[0;34m!=\u001b[0m \u001b[0mlen\u001b[0m\u001b[0;34m(\u001b[0m\u001b[0ms\u001b[0m\u001b[0;34m)\u001b[0m\u001b[0;34m:\u001b[0m\u001b[0;34m\u001b[0m\u001b[0m\n",
      "\u001b[0;32m/usr/lib/python3.5/json/decoder.py\u001b[0m in \u001b[0;36mraw_decode\u001b[0;34m(self, s, idx)\u001b[0m\n\u001b[1;32m    355\u001b[0m             \u001b[0mobj\u001b[0m\u001b[0;34m,\u001b[0m \u001b[0mend\u001b[0m \u001b[0;34m=\u001b[0m \u001b[0mself\u001b[0m\u001b[0;34m.\u001b[0m\u001b[0mscan_once\u001b[0m\u001b[0;34m(\u001b[0m\u001b[0ms\u001b[0m\u001b[0;34m,\u001b[0m \u001b[0midx\u001b[0m\u001b[0;34m)\u001b[0m\u001b[0;34m\u001b[0m\u001b[0m\n\u001b[1;32m    356\u001b[0m         \u001b[0;32mexcept\u001b[0m \u001b[0mStopIteration\u001b[0m \u001b[0;32mas\u001b[0m \u001b[0merr\u001b[0m\u001b[0;34m:\u001b[0m\u001b[0;34m\u001b[0m\u001b[0m\n\u001b[0;32m--> 357\u001b[0;31m             \u001b[0;32mraise\u001b[0m \u001b[0mJSONDecodeError\u001b[0m\u001b[0;34m(\u001b[0m\u001b[0;34m\"Expecting value\"\u001b[0m\u001b[0;34m,\u001b[0m \u001b[0ms\u001b[0m\u001b[0;34m,\u001b[0m \u001b[0merr\u001b[0m\u001b[0;34m.\u001b[0m\u001b[0mvalue\u001b[0m\u001b[0;34m)\u001b[0m \u001b[0;32mfrom\u001b[0m \u001b[0;32mNone\u001b[0m\u001b[0;34m\u001b[0m\u001b[0m\n\u001b[0m\u001b[1;32m    358\u001b[0m         \u001b[0;32mreturn\u001b[0m \u001b[0mobj\u001b[0m\u001b[0;34m,\u001b[0m \u001b[0mend\u001b[0m\u001b[0;34m\u001b[0m\u001b[0m\n",
      "\u001b[0;31mJSONDecodeError\u001b[0m: Expecting value: line 1 column 1 (char 0)"
     ]
    }
   ],
   "source": [
    "with open(path+fname+ftag, 'r') as data_file:    \n",
    "    data = json.load(data_file)\n",
    "\n",
    "data.keys()\n",
    "\n",
    "# data['entities']['groups']\n",
    "\n",
    "for j in range(len(data['entities']['sets'])):\n",
    "    print(data['entities']['sets'][j]['bestOf'])\n",
    "    print(data['entities']['sets'][j]['entrant1Id'])\n",
    "    print(data['entities']['sets'][j]['entrant2Id'])\n",
    "    print(data['entities']['sets'][j]['loserId'])\n",
    "    print(data['entities']['sets'][j]['winnerId'])\n",
    "    print(data['entities']['sets'][j]['totalGames'])"
   ]
  }
 ],
 "metadata": {
  "kernelspec": {
   "display_name": "Python 3",
   "language": "python",
   "name": "python3"
  },
  "language_info": {
   "codemirror_mode": {
    "name": "ipython",
    "version": 3
   },
   "file_extension": ".py",
   "mimetype": "text/x-python",
   "name": "python",
   "nbconvert_exporter": "python",
   "pygments_lexer": "ipython3",
   "version": "3.5.2"
  }
 },
 "nbformat": 4,
 "nbformat_minor": 1
}
