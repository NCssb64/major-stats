{
 "cells": [
  {
   "cell_type": "code",
   "execution_count": 1,
   "metadata": {
    "collapsed": false
   },
   "outputs": [],
   "source": [
    "import smasharchive"
   ]
  },
  {
   "cell_type": "code",
   "execution_count": 2,
   "metadata": {
    "collapsed": false
   },
   "outputs": [
    {
     "name": "stdout",
     "output_type": "stream",
     "text": [
      "initiatlizing smashdb\n",
      "testing\n",
      "\n",
      "SMASH ARCHIVE QUERY RESULTS\n",
      "\n",
      "from recorded games at the following events:\n",
      "\t\t2016 genesis 3\n",
      "\t\t2016 pound\n",
      "\t\t2016 goml\n",
      "\t\t2016 snosa2\n",
      "\t\t2017 beast7\n",
      "\t\t2016 ssc\n",
      "\t\t2017 genesis 4\n",
      "\t\t2016 shine\n",
      "\t\t2016 apex\n",
      "\t\t2016 summit\n",
      "\t\t2016 superboomed\n",
      "\t\t2016 bossbattle2\n",
      "\t\t2016 dpotg\n",
      "Includes pools games through gf2\n",
      "Number of players in query: 266\n",
      "Number of games in query: 1442\n",
      "\n",
      "\n"
     ]
    }
   ],
   "source": [
    "db = smasharchive.smashdb()"
   ]
  },
  {
   "cell_type": "code",
   "execution_count": 4,
   "metadata": {
    "collapsed": false
   },
   "outputs": [
    {
     "name": "stdout",
     "output_type": "stream",
     "text": [
      "MATCHUP PERCENTAGES \n",
      "\n",
      "char1 \tchar2 \t# games \tchar1 wins \tprct win by char 1\n",
      "pika\tpika\t288.0\t\t144.0\t\t0.50\n",
      "pika\tkirby\t170.0\t\t97.0\t\t0.57\n",
      "pika\tfalcon\t154.0\t\t81.0\t\t0.53\n",
      "pika\tyoshi\t134.0\t\t69.0\t\t0.51\n",
      "falcon\tfalcon\t82.0\t\t41.0\t\t0.50\n",
      "pika\tfox\t68.0\t\t48.0\t\t0.71\n",
      "falcon\tyoshi\t63.0\t\t26.0\t\t0.41\n",
      "yoshi\tkirby\t62.0\t\t22.0\t\t0.35\n",
      "falcon\tfox\t62.0\t\t27.0\t\t0.44\n",
      "pika\tpuff\t58.0\t\t31.0\t\t0.53\n",
      "falcon\tkirby\t45.0\t\t19.0\t\t0.42\n",
      "fox\tfox\t32.0\t\t16.0\t\t0.50\n",
      "falcon\tpuff\t28.0\t\t17.0\t\t0.61\n",
      "yoshi\tfox\t28.0\t\t14.0\t\t0.50\n",
      "kirby\tpuff\t27.0\t\t13.0\t\t0.48\n",
      "fox\tkirby\t27.0\t\t18.0\t\t0.67\n",
      "kirby\tkirby\t24.0\t\t12.0\t\t0.50\n",
      "falcon\tmario\t21.0\t\t10.0\t\t0.48\n",
      "pika\tmario\t20.0\t\t10.0\t\t0.50\n"
     ]
    }
   ],
   "source": [
    "db.print_mu_stats()"
   ]
  }
 ],
 "metadata": {
  "kernelspec": {
   "display_name": "Python 3",
   "language": "python",
   "name": "python3"
  },
  "language_info": {
   "codemirror_mode": {
    "name": "ipython",
    "version": 3
   },
   "file_extension": ".py",
   "mimetype": "text/x-python",
   "name": "python",
   "nbconvert_exporter": "python",
   "pygments_lexer": "ipython3",
   "version": "3.6.0"
  }
 },
 "nbformat": 4,
 "nbformat_minor": 2
}
