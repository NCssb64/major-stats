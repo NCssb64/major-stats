{
 "cells": [
  {
   "cell_type": "code",
   "execution_count": 1,
   "metadata": {
    "collapsed": false
   },
   "outputs": [
    {
     "name": "stdout",
     "output_type": "stream",
     "text": [
      "initiatlizing smashdb\n",
      "\n",
      "SMASH ARCHIVE QUERY RESULTS\n",
      "\n",
      "| Name             | Players | data-points |  Region |  Version |\n",
      "|:-----------------|--------:|------------:|--------:|---------:|\n",
      "| 2016 genesis 3   |     238 |         176 |      NA |        U |\n",
      "| 2016 pound       |     107 |         137 |      NA |        U |\n",
      "| 2016 goml        |      83 |         102 |      NA |        U |\n",
      "| 2016 snosa2      |      96 |          94 |      NA |        U |\n",
      "| 2017 beast7      |      43 |          45 |  Europe |        U |\n",
      "| 2016 ssc         |     314 |         211 |      NA |        U |\n",
      "| 2017 genesis 4   |     185 |         182 |      NA |        U |\n",
      "| 2016 shine       |     109 |         110 |      NA |        U |\n",
      "| 2016 apex        |      54 |          63 |      NA |        U |\n",
      "| 2016 summit      |      28 |          56 |      NA |        U |\n",
      "| 2016 superboomed |      80 |          87 |      NA |        U |\n",
      "| 2016 bossbattle2 |      90 |          93 |      NA |        U |\n",
      "| 2016 dpotg       |      73 |          86 |      NA |        U |\n",
      "| 2017 kansai      |      57 |          68 |   Japan |        J |\n",
      "\n",
      "* Includes pools games through gf2\n",
      "* Number of players in query: 290\n",
      "* Number of games in query: 1510\n",
      "\n"
     ]
    }
   ],
   "source": [
    "# Make plots with smashplot\n",
    "\n",
    "import smasharchive, smashplots\n",
    "\n",
    "db = smasharchive.smashdb()\n",
    "db.print_header()\n",
    "db.tournament_name_skip['kansai'] = 1\n",
    "db.tournament_name_skip['beast7'] = 1\n",
    "db.refilter_archive()\n",
    "\n",
    "smashplots.plot_char_use(db, 'NA-char-')"
   ]
  },
  {
   "cell_type": "code",
   "execution_count": 7,
   "metadata": {
    "collapsed": false
   },
   "outputs": [
    {
     "name": "stdout",
     "output_type": "stream",
     "text": [
      "initiatlizing smashdb\n",
      "\n",
      "SMASH ARCHIVE QUERY RESULTS\n",
      "\n",
      "| Name             | Players | data-points |  Region |  Version |\n",
      "|:-----------------|--------:|------------:|--------:|---------:|\n",
      "| 2016 genesis 3   |     238 |         176 |      NA |        U |\n",
      "| 2016 pound       |     107 |         137 |      NA |        U |\n",
      "| 2016 goml        |      83 |         102 |      NA |        U |\n",
      "| 2016 snosa2      |      96 |          94 |      NA |        U |\n",
      "| 2017 beast7      |      43 |          45 |  Europe |        U |\n",
      "| 2016 ssc         |     314 |         211 |      NA |        U |\n",
      "| 2017 genesis 4   |     185 |         182 |      NA |        U |\n",
      "| 2016 shine       |     109 |         110 |      NA |        U |\n",
      "| 2016 apex        |      54 |          63 |      NA |        U |\n",
      "| 2016 summit      |      28 |          56 |      NA |        U |\n",
      "| 2016 superboomed |      80 |          87 |      NA |        U |\n",
      "| 2016 bossbattle2 |      90 |          93 |      NA |        U |\n",
      "| 2016 dpotg       |      73 |          86 |      NA |        U |\n",
      "| 2017 kansai      |      57 |          68 |   Japan |        J |\n",
      "\n",
      "* Includes pools games through gf2\n",
      "* Number of players in query: 290\n",
      "* Number of games in query: 1510\n",
      "\n",
      "\n",
      "* Total games 382.0 (two characters appear per game)\n",
      "* Number of players in query: 40\n",
      "* Number of games in query: 382\n",
      "\n",
      "|     char     | # appearances | % of total |\n",
      "|:-------------|--------------:|-----------:|\n",
      "| pika         |         329.0 |       0.43 |\n",
      "| yoshi        |         131.0 |       0.17 |\n",
      "| kirby        |         126.0 |       0.16 |\n",
      "| falcon       |          61.0 |       0.08 |\n",
      "| fox          |          44.0 |       0.06 |\n",
      "| puff         |          25.0 |       0.03 |\n",
      "| dk           |          18.0 |       0.02 |\n",
      "| mario        |          11.0 |       0.01 |\n",
      "| link         |           9.0 |       0.01 |\n",
      "| ness         |           5.0 |       0.01 |\n",
      "| samus        |           3.0 |       0.00 |\n",
      "| luigi        |           2.0 |       0.00 |\n"
     ]
    }
   ],
   "source": [
    "# CHAR USE TABLES\n",
    "db = smasharchive.smashdb()\n",
    "db.print_header()\n",
    "db.tournament_name_skip['kansai'] = 1\n",
    "db.tournament_name_skip['beast7'] = 1\n",
    "db.level_limits = [5,9]\n",
    "db.refilter_archive()\n",
    "db.print_chargames_stats()"
   ]
  },
  {
   "cell_type": "code",
   "execution_count": 8,
   "metadata": {
    "collapsed": false
   },
   "outputs": [
    {
     "name": "stdout",
     "output_type": "stream",
     "text": [
      "initiatlizing smashdb\n",
      "\n",
      "SMASH ARCHIVE QUERY RESULTS\n",
      "\n",
      "| Name             | Players | data-points |  Region |  Version |\n",
      "|:-----------------|--------:|------------:|--------:|---------:|\n",
      "| 2016 genesis 3   |     238 |         176 |      NA |        U |\n",
      "| 2016 pound       |     107 |         137 |      NA |        U |\n",
      "| 2016 goml        |      83 |         102 |      NA |        U |\n",
      "| 2016 snosa2      |      96 |          94 |      NA |        U |\n",
      "| 2017 beast7      |      43 |          45 |  Europe |        U |\n",
      "| 2016 ssc         |     314 |         211 |      NA |        U |\n",
      "| 2017 genesis 4   |     185 |         182 |      NA |        U |\n",
      "| 2016 shine       |     109 |         110 |      NA |        U |\n",
      "| 2016 apex        |      54 |          63 |      NA |        U |\n",
      "| 2016 summit      |      28 |          56 |      NA |        U |\n",
      "| 2016 superboomed |      80 |          87 |      NA |        U |\n",
      "| 2016 bossbattle2 |      90 |          93 |      NA |        U |\n",
      "| 2016 dpotg       |      73 |          86 |      NA |        U |\n",
      "| 2017 kansai      |      57 |          68 |   Japan |        J |\n",
      "\n",
      "* Includes pools games through gf2\n",
      "* Number of players in query: 290\n",
      "* Number of games in query: 1510\n",
      "\n",
      "\n",
      "* Total games 68.0 (two characters appear per game)\n",
      "* Number of players in query: 32\n",
      "* Number of games in query: 68\n",
      "\n",
      "|     char     | # appearances | % of total |\n",
      "|:-------------|--------------:|-----------:|\n",
      "| kirby        |          24.0 |       0.18 |\n",
      "| falcon       |          23.0 |       0.17 |\n",
      "| yoshi        |          20.0 |       0.15 |\n",
      "| pika         |          17.0 |       0.12 |\n",
      "| fox          |          16.0 |       0.12 |\n",
      "| link         |          14.0 |       0.10 |\n",
      "| puff         |          10.0 |       0.07 |\n",
      "| ness         |           8.0 |       0.06 |\n",
      "| dk           |           2.0 |       0.01 |\n",
      "| mario        |           2.0 |       0.01 |\n"
     ]
    }
   ],
   "source": [
    "# CHAR USE TABLES\n",
    "db = smasharchive.smashdb()\n",
    "db.print_header()\n",
    "db.tournament_name_skip['beast7'] = 1\n",
    "db.tournament_name_skip['genesis 4'] = 1\n",
    "db.tournament_year_skip['2016'] = 1\n",
    "db.level_limits = [0,9]\n",
    "db.refilter_archive()\n",
    "db.print_chargames_stats()"
   ]
  }
 ],
 "metadata": {
  "kernelspec": {
   "display_name": "Python 3",
   "language": "python",
   "name": "python3"
  },
  "language_info": {
   "codemirror_mode": {
    "name": "ipython",
    "version": 3
   },
   "file_extension": ".py",
   "mimetype": "text/x-python",
   "name": "python",
   "nbconvert_exporter": "python",
   "pygments_lexer": "ipython3",
   "version": "3.6.0"
  }
 },
 "nbformat": 4,
 "nbformat_minor": 2
}
