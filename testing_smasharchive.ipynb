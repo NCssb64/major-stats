{
 "cells": [
  {
   "cell_type": "code",
   "execution_count": 1,
   "metadata": {
    "collapsed": false
   },
   "outputs": [
    {
     "name": "stdout",
     "output_type": "stream",
     "text": [
      "initiatlizing smashdb\n"
     ]
    }
   ],
   "source": [
    "import smasharchive\n",
    "\n",
    "db = smasharchive.smashdb()"
   ]
  },
  {
   "cell_type": "code",
   "execution_count": 2,
   "metadata": {
    "collapsed": false
   },
   "outputs": [
    {
     "name": "stdout",
     "output_type": "stream",
     "text": [
      "\n",
      "SMASH ARCHIVE QUERY RESULTS\n",
      "\n",
      "from recorded games at the following events:\n",
      "\t\t2016 genesis 3\n",
      "\t\t2016 pound\n",
      "\t\t2016 goml\n",
      "\t\t2016 snosa2\n",
      "\t\t2016 ssc\n",
      "\t\t2016 shine\n",
      "\t\t2016 apex\n",
      "\t\t2016 summit\n",
      "\t\t2016 superboomed\n",
      "\t\t2016 bossbattle2\n",
      "\t\t2016 dpotg\n",
      "Includes bracket games through gf2\n",
      "Number of players in query: 99\n",
      "Number of games in query: 779\n",
      "\n",
      "\n",
      "MATCHUP PERCENTAGES \n",
      "\n",
      "char1 \tchar2 \t# games \tchar1 wins \tprct win by char 1\n",
      "pika\tpika\t166.0\t\t83.0\t\t0.50\n",
      "yoshi\tpika\t106.0\t\t52.0\t\t0.49\n",
      "kirby\tpika\t96.0\t\t46.0\t\t0.48\n",
      "falcon\tpika\t87.0\t\t41.0\t\t0.47\n",
      "yoshi\tkirby\t42.0\t\t9.0\t\t0.21\n",
      "yoshi\tfalcon\t34.0\t\t19.0\t\t0.56\n",
      "pika\tpuff\t34.0\t\t18.0\t\t0.53\n",
      "fox\tpika\t31.0\t\t9.0\t\t0.29\n",
      "fox\tfalcon\t29.0\t\t18.0\t\t0.62\n",
      "falcon\tkirby\t24.0\t\t7.0\t\t0.29\n",
      "falcon\tfalcon\t24.0\t\t12.0\t\t0.50\n",
      "yoshi\tfox\t20.0\t\t8.0\t\t0.40\n"
     ]
    }
   ],
   "source": [
    "db.tournament_year_skip['2017'] = 1\n",
    "db.level_limits = [1,9]\n",
    "db.refilter_archive()\n",
    "db.print_mu_stats(game_threshold=20)"
   ]
  },
  {
   "cell_type": "code",
   "execution_count": 3,
   "metadata": {
    "collapsed": false
   },
   "outputs": [
    {
     "name": "stdout",
     "output_type": "stream",
     "text": [
      "initiatlizing smashdb\n",
      "\n",
      "SMASH ARCHIVE QUERY RESULTS\n",
      "\n",
      "from recorded games at the following events:\n",
      "\t\t2017 kansai\n",
      "Includes pools games through gf2\n",
      "Number of players in query: 32\n",
      "Number of games in query: 68\n",
      "\n",
      "\n"
     ]
    }
   ],
   "source": [
    "db = smasharchive.smashdb()\n",
    "db.tournament_name_skip['beast7'] = 1\n",
    "db.tournament_name_skip['genesis 4'] = 1\n",
    "db.tournament_year_skip['2016'] = 1\n",
    "db.refilter_archive()"
   ]
  },
  {
   "cell_type": "code",
   "execution_count": 4,
   "metadata": {
    "collapsed": false
   },
   "outputs": [
    {
     "name": "stdout",
     "output_type": "stream",
     "text": [
      "MATCHUP PERCENTAGES \n",
      "\n",
      "char1 \tchar2 \t# games \tchar1 wins \tprct win by char 1\n",
      "kirby\tlink\t7.0\t\t4.0\t\t0.57\n",
      "kirby\tyoshi\t6.0\t\t2.0\t\t0.33\n",
      "falcon\tfalcon\t6.0\t\t3.0\t\t0.50\n",
      "falcon\tfox\t4.0\t\t1.0\t\t0.25\n",
      "pika\tfalcon\t4.0\t\t1.0\t\t0.25\n",
      "pika\tkirby\t4.0\t\t0.0\t\t0.00\n",
      "yoshi\tyoshi\t4.0\t\t2.0\t\t0.50\n",
      "pika\tfox\t4.0\t\t1.0\t\t0.25\n",
      "pika\tyoshi\t3.0\t\t3.0\t\t1.00\n",
      "falcon\tness\t3.0\t\t1.0\t\t0.33\n",
      "link\tpuff\t3.0\t\t2.0\t\t0.67\n",
      "puff\tyoshi\t3.0\t\t2.0\t\t0.67\n",
      "falcon\tpuff\t2.0\t\t2.0\t\t1.00\n",
      "kirby\tfox\t2.0\t\t2.0\t\t1.00\n",
      "kirby\tkirby\t2.0\t\t1.0\t\t0.50\n",
      "fox\tfox\t2.0\t\t1.0\t\t0.50\n",
      "falcon\tkirby\t1.0\t\t1.0\t\t1.00\n",
      "mario\tfox\t1.0\t\t0.0\t\t0.00\n",
      "ness\tkirby\t1.0\t\t1.0\t\t1.00\n",
      "ness\tlink\t1.0\t\t1.0\t\t1.00\n",
      "ness\tpuff\t1.0\t\t0.0\t\t0.00\n",
      "falcon\tmario\t1.0\t\t1.0\t\t1.00\n",
      "falcon\tyoshi\t1.0\t\t1.0\t\t1.00\n",
      "ness\tfox\t1.0\t\t0.0\t\t0.00\n",
      "falcon\tlink\t1.0\t\t0.0\t\t0.00\n",
      "link\tyoshi\t1.0\t\t1.0\t\t1.00\n",
      "pika\tness\t1.0\t\t1.0\t\t1.00\n",
      "yoshi\tdk\t1.0\t\t1.0\t\t1.00\n",
      "yoshi\tfox\t1.0\t\t0.0\t\t0.00\n",
      "kirby\tdk\t1.0\t\t1.0\t\t1.00\n",
      "pika\tlink\t1.0\t\t0.0\t\t0.00\n",
      "puff\tfox\t1.0\t\t1.0\t\t1.00\n"
     ]
    }
   ],
   "source": [
    "db.print_mu_stats(game_threshold=1)"
   ]
  },
  {
   "cell_type": "code",
   "execution_count": null,
   "metadata": {
    "collapsed": true
   },
   "outputs": [],
   "source": []
  }
 ],
 "metadata": {
  "kernelspec": {
   "display_name": "Python 3",
   "language": "python",
   "name": "python3"
  },
  "language_info": {
   "codemirror_mode": {
    "name": "ipython",
    "version": 3
   },
   "file_extension": ".py",
   "mimetype": "text/x-python",
   "name": "python",
   "nbconvert_exporter": "python",
   "pygments_lexer": "ipython3",
   "version": "3.6.0"
  }
 },
 "nbformat": 4,
 "nbformat_minor": 2
}
