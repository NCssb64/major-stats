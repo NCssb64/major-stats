{
 "cells": [
  {
   "cell_type": "code",
   "execution_count": 14,
   "metadata": {
    "collapsed": false
   },
   "outputs": [],
   "source": [
    "# A BUTTON\n",
    "\n",
    "import tkinter\n",
    "from tkinter import messagebox\n",
    "#import tkMessageBox\n",
    "\n",
    "top = tkinter.Tk()\n",
    "var = tkinter.StringVar()\n",
    "label = tkinter.Message( top, textvariable=var)\n",
    "var.set(\"Hey!? How are you doing?\")\n",
    "\n",
    "def helloCallBack():\n",
    "    #messagebox.showinfo( \"Hello Python\", \"Hello World\")\n",
    "    var.set(\"helloooooo\")\n",
    "\n",
    "B = tkinter.Button(top, text =\"Hello\", command = helloCallBack)\n",
    "\n",
    "label.pack()\n",
    "B.pack()\n",
    "top.mainloop()"
   ]
  },
  {
   "cell_type": "code",
   "execution_count": null,
   "metadata": {
    "collapsed": true
   },
   "outputs": [],
   "source": []
  }
 ],
 "metadata": {
  "kernelspec": {
   "display_name": "Python 3",
   "language": "python",
   "name": "python3"
  },
  "language_info": {
   "codemirror_mode": {
    "name": "ipython",
    "version": 3
   },
   "file_extension": ".py",
   "mimetype": "text/x-python",
   "name": "python",
   "nbconvert_exporter": "python",
   "pygments_lexer": "ipython3",
   "version": "3.6.0"
  }
 },
 "nbformat": 4,
 "nbformat_minor": 2
}
